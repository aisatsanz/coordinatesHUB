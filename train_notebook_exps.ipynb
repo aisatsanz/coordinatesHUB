{
 "cells": [
  {
   "cell_type": "code",
   "execution_count": 1,
   "id": "a4079f17-3bb3-4497-a915-ef6d840302f2",
   "metadata": {},
   "outputs": [
    {
     "name": "stdout",
     "output_type": "stream",
     "text": [
      "{'Объекты недвижимости, не соответствующие градостроительным нормам_00-022_Август': {'json': './Объекты недвижимости, не соответствующие градостроительным нормам_00-022_Август.json', 'xlsx': './Объекты недвижимости, не соответствующие градостроительным нормам_00-022_Август.xlsx', 'zip': './Объекты недвижимости, не соответствующие градостроительным нормам_00-022_Август.zip'}, 'Объекты недвижимости, не соответствующие градостроительным нормам_00-022_Июль': {'json': './Объекты недвижимости, не соответствующие градостроительным нормам_00-022_Июль.json', 'xlsx': './Объекты недвижимости, не соответствующие градостроительным нормам_00-022_Июль.xlsx', 'zip': './Объекты недвижимости, не соответствующие градостроительным нормам_00-022_Июль.zip'}, 'Строительная площадка_18-001_Август': {'json': './Строительная площадка_18-001_Август.json', 'xlsx': './Строительная площадка_18-001_Август.xlsx', 'zip': './Строительная площадка_18-001_Август.zip'}, 'Строительная площадка_18-001_Июль': {'json': './Строительная площадка_18-001_Июль.json', 'xlsx': './Строительная площадка_18-001_Июль.xlsx', 'zip': './Строительная площадка_18-001_Июль.zip'}}\n"
     ]
    }
   ],
   "source": [
    "import os\n",
    "\n",
    "object_names = [\n",
    "    \"Объекты недвижимости, не соответствующие градостроительным нормам_00-022_Август\",\n",
    "    \"Объекты недвижимости, не соответствующие градостроительным нормам_00-022_Июль\",\n",
    "    \"Строительная площадка_18-001_Август\",\n",
    "    \"Строительная площадка_18-001_Июль\"\n",
    "]\n",
    "\n",
    "base_dir = \".\"\n",
    "\n",
    "object_paths = {}\n",
    "\n",
    "for obj_name in object_names:\n",
    "    obj_dir = os.path.join(base_dir, obj_name)\n",
    "    json_path = os.path.join(base_dir, f\"{obj_name}.json\")\n",
    "    xlsx_path = os.path.join(base_dir, f\"{obj_name}.xlsx\")\n",
    "    zip_path = os.path.join(base_dir, f\"{obj_name}.zip\")\n",
    "\n",
    "    object_paths[obj_name] = {\n",
    "        \"json\": json_path,\n",
    "        \"xlsx\": xlsx_path,\n",
    "        \"zip\": zip_path\n",
    "    }\n",
    "\n",
    "print(object_paths)"
   ]
  },
  {
   "cell_type": "code",
   "execution_count": 6,
   "id": "c8b5769a-3065-4660-849b-2c17cd2409fc",
   "metadata": {},
   "outputs": [
    {
     "name": "stdout",
     "output_type": "stream",
     "text": [
      "Processing object: Объекты недвижимости, не соответствующие градостроительным нормам_00-022_Август\n",
      "  JSON path: ./Объекты недвижимости, не соответствующие градостроительным нормам_00-022_Август.json\n",
      "  XLSX path: ./Объекты недвижимости, не соответствующие градостроительным нормам_00-022_Август.xlsx\n",
      "  ZIP path: ./Объекты недвижимости, не соответствующие градостроительным нормам_00-022_Август.zip\n",
      "  Unzipped to: /tmp/Объекты недвижимости, не соответствующие градостроительным нормам_00-022_Август\n",
      "  Loaded JSON from: ./Объекты недвижимости, не соответствующие градостроительным нормам_00-022_Август.json\n",
      "  Loaded XLSX from: ./Объекты недвижимости, не соответствующие градостроительным нормам_00-022_Август.xlsx\n",
      "Processing object: Объекты недвижимости, не соответствующие градостроительным нормам_00-022_Июль\n",
      "  JSON path: ./Объекты недвижимости, не соответствующие градостроительным нормам_00-022_Июль.json\n",
      "  XLSX path: ./Объекты недвижимости, не соответствующие градостроительным нормам_00-022_Июль.xlsx\n",
      "  ZIP path: ./Объекты недвижимости, не соответствующие градостроительным нормам_00-022_Июль.zip\n",
      "  Unzipped to: /tmp/Объекты недвижимости, не соответствующие градостроительным нормам_00-022_Июль\n",
      "  Loaded JSON from: ./Объекты недвижимости, не соответствующие градостроительным нормам_00-022_Июль.json\n",
      "  Loaded XLSX from: ./Объекты недвижимости, не соответствующие градостроительным нормам_00-022_Июль.xlsx\n",
      "Processing object: Строительная площадка_18-001_Август\n",
      "  JSON path: ./Строительная площадка_18-001_Август.json\n",
      "  XLSX path: ./Строительная площадка_18-001_Август.xlsx\n",
      "  ZIP path: ./Строительная площадка_18-001_Август.zip\n",
      "  Unzipped to: /tmp/Строительная площадка_18-001_Август\n",
      "  Loaded JSON from: ./Строительная площадка_18-001_Август.json\n",
      "  Loaded XLSX from: ./Строительная площадка_18-001_Август.xlsx\n",
      "Processing object: Строительная площадка_18-001_Июль\n",
      "  JSON path: ./Строительная площадка_18-001_Июль.json\n",
      "  XLSX path: ./Строительная площадка_18-001_Июль.xlsx\n",
      "  ZIP path: ./Строительная площадка_18-001_Июль.zip\n",
      "  Unzipped to: /tmp/Строительная площадка_18-001_Июль\n",
      "  Loaded JSON from: ./Строительная площадка_18-001_Июль.json\n",
      "  Loaded XLSX from: ./Строительная площадка_18-001_Июль.xlsx\n"
     ]
    }
   ],
   "source": [
    "import zipfile\n",
    "import json\n",
    "import pandas as pd\n",
    "import os\n",
    "\n",
    "loaded_data = {}\n",
    "\n",
    "for obj_name, paths in object_paths.items():\n",
    "    print(f\"Processing object: {obj_name}\")\n",
    "    print(f\"  JSON path: {paths['json']}\")\n",
    "    print(f\"  XLSX path: {paths['xlsx']}\")\n",
    "    print(f\"  ZIP path: {paths['zip']}\")\n",
    "\n",
    "    # Create a directory to extract the zip file into\n",
    "    extract_dir = os.path.join(\"/tmp\", obj_name)\n",
    "    os.makedirs(extract_dir, exist_ok=True)\n",
    "\n",
    "    # Unzip the file\n",
    "    if os.path.exists(paths['zip']):\n",
    "        with zipfile.ZipFile(paths['zip'], 'r') as zip_ref:\n",
    "            zip_ref.extractall(extract_dir)\n",
    "        print(f\"  Unzipped to: {extract_dir}\")\n",
    "    else:\n",
    "        print(f\"  ZIP file not found: {paths['zip']}\")\n",
    "\n",
    "    # Load JSON data\n",
    "    json_data = None\n",
    "    if os.path.exists(paths['json']):\n",
    "        with open(paths['json'], 'r') as f:\n",
    "            json_data = json.load(f)\n",
    "        print(f\"  Loaded JSON from: {paths['json']}\")\n",
    "    else:\n",
    "        print(f\"  JSON file not found: {paths['json']}\")\n",
    "\n",
    "    # Load XLSX data into a pandas DataFrame\n",
    "    xlsx_data = None\n",
    "    if os.path.exists(paths['xlsx']):\n",
    "        try:\n",
    "            xlsx_data = pd.read_excel(paths['xlsx'])\n",
    "            print(f\"  Loaded XLSX from: {paths['xlsx']}\")\n",
    "        except Exception as e:\n",
    "            print(f\"  Error loading XLSX from {paths['xlsx']}: {e}\")\n",
    "    else:\n",
    "        print(f\"  XLSX file not found: {paths['xlsx']}\")\n",
    "\n",
    "    # Add the 'Полный путь к файлу' column to the DataFrame if it was loaded successfully\n",
    "    if xlsx_data is not None and 'Имя файла' in xlsx_data.columns:\n",
    "         xlsx_data['Полный путь к файлу'] = os.path.join(extract_dir, obj_name, '') + xlsx_data['Имя файла']\n",
    "\n",
    "\n",
    "    loaded_data[obj_name] = {\n",
    "        \"json\": json_data,\n",
    "        \"xlsx\": xlsx_data,\n",
    "        \"extracted_files_dir\": extract_dir # Store the extraction directory path\n",
    "    }\n",
    "\n"
   ]
  },
  {
   "cell_type": "code",
   "execution_count": 7,
   "id": "2cf12e12-9769-429f-94b5-1f3981f30105",
   "metadata": {},
   "outputs": [
    {
     "name": "stdout",
     "output_type": "stream",
     "text": [
      "Объекты недвижимости, не соответствующие градостроительным нормам_00-022_Август (11898, 9)\n",
      "Объекты недвижимости, не соответствующие градостроительным нормам_00-022_Июль (8635, 9)\n",
      "Строительная площадка_18-001_Август (15000, 9)\n",
      "Строительная площадка_18-001_Июль (15000, 9)\n"
     ]
    }
   ],
   "source": [
    "for obj_name, paths in object_paths.items():\n",
    "    df = loaded_data[obj_name][\"xlsx\"]\n",
    "    print(obj_name, df.shape)\n"
   ]
  },
  {
   "cell_type": "code",
   "execution_count": 8,
   "id": "0e89ddc6-0fa0-43a9-86f7-e3ee4afc685c",
   "metadata": {},
   "outputs": [
    {
     "name": "stdout",
     "output_type": "stream",
     "text": [
      "\n",
      "== Объекты недвижимости, не соответствующие градостроительным нормам_00-022_Август ==\n",
      "Всего строк: 11898\n",
      "Координаты notna: 11898 (100.0%)\n",
      "moscow_ok: 11456 (96.3%) | in_core_box: 11203 (94.2%)\n",
      "Lat range: [25.61625, 65.20046] | Lon range: [27.07118, 82.65228]\n",
      "Dist from center (m): median=10418.4, p90=27544.9, max=3443066.5\n",
      "\n",
      "== Объекты недвижимости, не соответствующие градостроительным нормам_00-022_Июль ==\n",
      "Всего строк: 8635\n",
      "Координаты notna: 8635 (100.0%)\n",
      "moscow_ok: 8300 (96.1%) | in_core_box: 8114 (94.0%)\n",
      "Lat range: [43.54107, 58.69785] | Lon range: [22.96079, 82.65218]\n",
      "Dist from center (m): median=10872.3, p90=27690.3, max=2795683.4\n",
      "\n",
      "== Строительная площадка_18-001_Август ==\n",
      "Всего строк: 15000\n",
      "Координаты notna: 15000 (100.0%)\n",
      "moscow_ok: 14596 (97.3%) | in_core_box: 14335 (95.6%)\n",
      "Lat range: [41.19006, 65.05930] | Lon range: [25.14838, 82.65452]\n",
      "Dist from center (m): median=10933.1, p90=27733.8, max=2795883.8\n",
      "\n",
      "== Строительная площадка_18-001_Июль ==\n",
      "Всего строк: 15000\n",
      "Координаты notna: 15000 (100.0%)\n",
      "moscow_ok: 14460 (96.4%) | in_core_box: 14283 (95.2%)\n",
      "Lat range: [41.69295, 61.23706] | Lon range: [29.05973, 82.65243]\n",
      "Dist from center (m): median=11236.7, p90=27970.6, max=2795701.8\n",
      "\n",
      "== Топ-камер по выбросам (вне moscow_ok) — Объекты недвижимости, не соответствующие градостроительным нормам_00-022_Август ==\n",
      "                                         n  bad bad_pct\n",
      "camera                                                 \n",
      "d2c4eccd-3e4b-406c-a903-0f5e43d0be35    45   19   42.2%\n",
      "18a5c468-d9e6-4814-8477-1caf4a2e1fe9   203   52   25.6%\n",
      "a1a9db89-3f74-42ef-8fad-ad69705102cd   486   44    9.1%\n",
      "cbf95b01-f708-45a3-9ec0-3603469b538e  1610  137    8.5%\n",
      "56702d00-3d38-4721-8f83-3846a59c1e44    24    2    8.3%\n",
      "91248771-2c4d-44f3-b3cf-d536bd4ae73c    74    6    8.1%\n",
      "c008bda0-324b-4c90-9c2f-36cfc930e0b5    41    3    7.3%\n",
      "29ad9edb-d533-4272-a986-be24eb004851   123    8    6.5%\n",
      "50e4626c-a80e-42ab-b999-b5092c2c063f   114    7    6.1%\n",
      "61936922-4d4b-458e-80ea-6d4c450aa1d5   185   11    5.9%\n",
      "\n",
      "== Топ-камер по выбросам (вне moscow_ok) — Объекты недвижимости, не соответствующие градостроительным нормам_00-022_Июль ==\n",
      "                                        n  bad bad_pct\n",
      "camera                                                \n",
      "b23a39fd-838c-435a-bacd-b4d6bb842c62    2    1   50.0%\n",
      "f389b777-2837-46f0-983f-56af24850601    6    3   50.0%\n",
      "fb9a37cc-57a6-447c-98bb-0b299f09c809    3    1   33.3%\n",
      "8996eb30-6497-4318-8a0e-b95314b8172e   22    6   27.3%\n",
      "57812597-37e6-414c-8b11-8c661dbfeb70  113   24   21.2%\n",
      "55da50d9-6d31-4c29-a85b-6a228578c6de   48    7   14.6%\n",
      "af173c70-3716-4040-aa0b-1be99e78abe8   76    9   11.8%\n",
      "cb4060b2-34d3-44a4-9f60-115fb1e9278e   17    2   11.8%\n",
      "9f88688f-4c81-42a8-b76a-3c3e7edf869e   65    6    9.2%\n",
      "8beacb4f-617e-4b34-8030-60c4dff5f8d1   22    2    9.1%\n",
      "\n",
      "== Топ-камер по выбросам (вне moscow_ok) — Строительная площадка_18-001_Август ==\n",
      "                                        n  bad bad_pct\n",
      "camera                                                \n",
      "cbf95b01-f708-45a3-9ec0-3603469b538e  145   17   11.7%\n",
      "57812597-37e6-414c-8b11-8c661dbfeb70   95   11   11.6%\n",
      "61936922-4d4b-458e-80ea-6d4c450aa1d5  185   18    9.7%\n",
      "a1a9db89-3f74-42ef-8fad-ad69705102cd  236   21    8.9%\n",
      "91248771-2c4d-44f3-b3cf-d536bd4ae73c  288   24    8.3%\n",
      "d2c4eccd-3e4b-406c-a903-0f5e43d0be35  166   13    7.8%\n",
      "12e795ad-2aa7-49de-b2da-2c6aa35a4559  175   12    6.9%\n",
      "750bf7e4-0f0f-4f1a-96af-607dc8c1f1c9  280   19    6.8%\n",
      "db8b536c-32f2-4d9a-ae08-679d227e61f1  161    9    5.6%\n",
      "31a713a9-b910-424b-b847-e0eaa2f70c70  253   14    5.5%\n",
      "\n",
      "== Топ-камер по выбросам (вне moscow_ok) — Строительная площадка_18-001_Июль ==\n",
      "                                        n  bad bad_pct\n",
      "camera                                                \n",
      "48b533d5-d106-4175-ac9b-d5ce8d90cccf  153   27   17.6%\n",
      "8996eb30-6497-4318-8a0e-b95314b8172e  132   22   16.7%\n",
      "8beacb4f-617e-4b34-8030-60c4dff5f8d1   60   10   16.7%\n",
      "a1a9db89-3f74-42ef-8fad-ad69705102cd  109   15   13.8%\n",
      "71239877-3cfe-4ed6-87a7-5c84ab51c75a   94   12   12.8%\n",
      "f389b777-2837-46f0-983f-56af24850601   49    6   12.2%\n",
      "57812597-37e6-414c-8b11-8c661dbfeb70  104   11   10.6%\n",
      "2ba4f567-3981-4fd7-ac4a-45e8b3d68429   45    4    8.9%\n",
      "8cde1fd0-eca1-4510-86ab-3c743b65fdfc  162   14    8.6%\n",
      "5e5b9944-4f9e-4223-bf96-0bc0c8a93dfa  250   18    7.2%\n"
     ]
    }
   ],
   "source": [
    "import numpy as np\n",
    "import pandas as pd\n",
    "\n",
    "# --- Константы ---\n",
    "# \"Центр\" для дистанций (Кремль)\n",
    "CTR_LAT, CTR_LON = 55.751244, 37.618423\n",
    "\n",
    "# Очень широкий бокс по Москве и МО (не режем агрессивно)\n",
    "LAT_WIDE = (55.3, 56.0)\n",
    "LON_WIDE = (37.2, 38.0)\n",
    "\n",
    "# Более \"ядровой\" бокс (внутренняя Москва) — для справки\n",
    "LAT_CORE = (55.3, 56.0)\n",
    "LON_CORE = (37.2, 38.0)\n",
    "\n",
    "# Круговая маска от центра (альтернатива/дополнение к боксу)\n",
    "# <70 км — Москва и ближнее Подмосковье; подстрой при необходимости\n",
    "RADIUS_KM = 70.0\n",
    "\n",
    "def haversine_m(lat1, lon1, lat2, lon2):\n",
    "    R = 6371000.0\n",
    "    lat1 = np.radians(lat1); lon1 = np.radians(lon1)\n",
    "    lat2 = np.radians(lat2); lon2 = np.radians(lon2)\n",
    "    dlat = lat2 - lat1; dlon = lon2 - lon1\n",
    "    a = np.sin(dlat/2.0)**2 + np.cos(lat1)*np.cos(lat2)*np.sin(dlon/2.0)**2\n",
    "    return R * (2*np.arcsin(np.sqrt(a)))\n",
    "\n",
    "def add_coord_flags(df, lat_col='latitude', lon_col='longitude'):\n",
    "    dfx = df.copy()\n",
    "    # валидность чисел\n",
    "    dfx['coord_notna'] = dfx[lat_col].notna() & dfx[lon_col].notna()\n",
    "\n",
    "    # широкие/ядровые боксы\n",
    "    dfx['in_wide_box'] = (\n",
    "        dfx[lat_col].between(*LAT_WIDE) &\n",
    "        dfx[lon_col].between(*LON_WIDE)\n",
    "    )\n",
    "    dfx['in_core_box'] = (\n",
    "        dfx[lat_col].between(*LAT_CORE) &\n",
    "        dfx[lon_col].between(*LON_CORE)\n",
    "    )\n",
    "\n",
    "    # дистанция от центра\n",
    "    dfx['dist_m_from_center'] = haversine_m(dfx[lat_col], dfx[lon_col], CTR_LAT, CTR_LON)\n",
    "    dfx['in_radius'] = (dfx['dist_m_from_center'] <= RADIUS_KM*1000)\n",
    "\n",
    "    # итоговая маска \"Москва ок\" (логика: валидные числа И (в широком боксе ИЛИ в радиусе))\n",
    "    dfx['moscow_ok'] = dfx['coord_notna'] & (dfx['in_wide_box'] | dfx['in_radius'])\n",
    "\n",
    "    return dfx\n",
    "\n",
    "def summarize_coords(dfx, name, lat_col='latitude', lon_col='longitude'):\n",
    "    n = len(dfx)\n",
    "    n_notna = int(dfx['coord_notna'].sum())\n",
    "    n_ok = int(dfx['moscow_ok'].sum())\n",
    "    n_core = int(dfx['in_core_box'].sum())\n",
    "\n",
    "    # базовые статистики по валидным координатам\n",
    "    valid = dfx[dfx['coord_notna']]\n",
    "    if len(valid):\n",
    "        lat_min, lat_max = valid[lat_col].min(), valid[lat_col].max()\n",
    "        lon_min, lon_max = valid[lon_col].min(), valid[lon_col].max()\n",
    "        dists = valid['dist_m_from_center'].values\n",
    "        stats = {\n",
    "            'dist_m_median': float(np.median(dists)),\n",
    "            'dist_m_p90': float(np.percentile(dists, 90)),\n",
    "            'dist_m_max': float(np.max(dists)),\n",
    "        }\n",
    "    else:\n",
    "        lat_min=lat_max=lon_min=lon_max=np.nan\n",
    "        stats = {'dist_m_median':np.nan,'dist_m_p90':np.nan,'dist_m_max':np.nan}\n",
    "\n",
    "    print(f\"\\n== {name} ==\")\n",
    "    print(f\"Всего строк: {n}\")\n",
    "    print(f\"Координаты notna: {n_notna} ({n_notna/n*100:.1f}%)\")\n",
    "    print(f\"moscow_ok: {n_ok} ({n_ok/n*100:.1f}%) | in_core_box: {n_core} ({n_core/n*100:.1f}%)\")\n",
    "    print(f\"Lat range: [{lat_min:.5f}, {lat_max:.5f}] | Lon range: [{lon_min:.5f}, {lon_max:.5f}]\")\n",
    "    print(f\"Dist from center (m): median={stats['dist_m_median']:.1f}, p90={stats['dist_m_p90']:.1f}, max={stats['dist_m_max']:.1f}\")\n",
    "    return stats\n",
    "\n",
    "# ---- прогон по всем наборам ----\n",
    "coord_flags = {}  # сохраним обогащенные DataFrame при желании использовать дальше\n",
    "\n",
    "for obj_name, bundle in loaded_data.items():\n",
    "    df = bundle.get(\"xlsx\")\n",
    "    if df is None or ('latitude' not in df.columns) or ('longitude' not in df.columns):\n",
    "        print(f\"\\n== {obj_name} ==\\nНет координатных колонок.\")\n",
    "        continue\n",
    "\n",
    "    dfx = add_coord_flags(df, 'latitude', 'longitude')\n",
    "    coord_flags[obj_name] = dfx  # НЕ удаляем, просто добавили признаки\n",
    "\n",
    "    _ = summarize_coords(dfx, obj_name, 'latitude', 'longitude')\n",
    "\n",
    "# (опционально) Топ-камеры по доле выбросов (вне moscow_ok)\n",
    "for obj_name, dfx in coord_flags.items():\n",
    "    if 'camera' not in dfx.columns:\n",
    "        continue\n",
    "    tmp = dfx.copy()\n",
    "    grp = tmp.groupby('camera').agg(\n",
    "        n=('camera','size'),\n",
    "        bad=('moscow_ok', lambda s: (~s).sum())\n",
    "    )\n",
    "    grp['bad_pct'] = grp['bad'] / grp['n'] * 100\n",
    "    top = grp.sort_values('bad_pct', ascending=False).head(10)\n",
    "    print(f\"\\n== Топ-камер по выбросам (вне moscow_ok) — {obj_name} ==\")\n",
    "    print(top.to_string(formatters={'bad_pct':lambda v: f\"{v:.1f}%\"}))\n"
   ]
  },
  {
   "cell_type": "code",
   "execution_count": 9,
   "id": "ede86a54-c8ec-4742-9878-3cd8232e8221",
   "metadata": {},
   "outputs": [
    {
     "name": "stdout",
     "output_type": "stream",
     "text": [
      "Collecting matplotlib\n",
      "  Downloading matplotlib-3.10.6-cp312-cp312-manylinux2014_x86_64.manylinux_2_17_x86_64.whl.metadata (11 kB)\n",
      "Collecting contourpy>=1.0.1 (from matplotlib)\n",
      "  Downloading contourpy-1.3.3-cp312-cp312-manylinux_2_27_x86_64.manylinux_2_28_x86_64.whl.metadata (5.5 kB)\n",
      "Collecting cycler>=0.10 (from matplotlib)\n",
      "  Downloading cycler-0.12.1-py3-none-any.whl.metadata (3.8 kB)\n",
      "Collecting fonttools>=4.22.0 (from matplotlib)\n",
      "  Downloading fonttools-4.60.1-cp312-cp312-manylinux1_x86_64.manylinux2014_x86_64.manylinux_2_17_x86_64.manylinux_2_5_x86_64.whl.metadata (112 kB)\n",
      "Collecting kiwisolver>=1.3.1 (from matplotlib)\n",
      "  Downloading kiwisolver-1.4.9-cp312-cp312-manylinux2014_x86_64.manylinux_2_17_x86_64.whl.metadata (6.3 kB)\n",
      "Requirement already satisfied: numpy>=1.23 in /venv/main/lib/python3.12/site-packages (from matplotlib) (2.1.2)\n",
      "Requirement already satisfied: packaging>=20.0 in /venv/main/lib/python3.12/site-packages (from matplotlib) (25.0)\n",
      "Requirement already satisfied: pillow>=8 in /venv/main/lib/python3.12/site-packages (from matplotlib) (11.0.0)\n",
      "Collecting pyparsing>=2.3.1 (from matplotlib)\n",
      "  Downloading pyparsing-3.2.5-py3-none-any.whl.metadata (5.0 kB)\n",
      "Requirement already satisfied: python-dateutil>=2.7 in /venv/main/lib/python3.12/site-packages (from matplotlib) (2.9.0.post0)\n",
      "Requirement already satisfied: six>=1.5 in /venv/main/lib/python3.12/site-packages (from python-dateutil>=2.7->matplotlib) (1.17.0)\n",
      "Downloading matplotlib-3.10.6-cp312-cp312-manylinux2014_x86_64.manylinux_2_17_x86_64.whl (8.7 MB)\n",
      "\u001b[2K   \u001b[90m━━━━━━━━━━━━━━━━━━━━━━━━━━━━━━━━━━━━━━━━\u001b[0m \u001b[32m8.7/8.7 MB\u001b[0m \u001b[31m86.4 MB/s\u001b[0m  \u001b[33m0:00:00\u001b[0m\n",
      "\u001b[?25hDownloading contourpy-1.3.3-cp312-cp312-manylinux_2_27_x86_64.manylinux_2_28_x86_64.whl (362 kB)\n",
      "Downloading cycler-0.12.1-py3-none-any.whl (8.3 kB)\n",
      "Downloading fonttools-4.60.1-cp312-cp312-manylinux1_x86_64.manylinux2014_x86_64.manylinux_2_17_x86_64.manylinux_2_5_x86_64.whl (4.9 MB)\n",
      "\u001b[2K   \u001b[90m━━━━━━━━━━━━━━━━━━━━━━━━━━━━━━━━━━━━━━━━\u001b[0m \u001b[32m4.9/4.9 MB\u001b[0m \u001b[31m58.7 MB/s\u001b[0m  \u001b[33m0:00:00\u001b[0m\n",
      "\u001b[?25hDownloading kiwisolver-1.4.9-cp312-cp312-manylinux2014_x86_64.manylinux_2_17_x86_64.whl (1.5 MB)\n",
      "\u001b[2K   \u001b[90m━━━━━━━━━━━━━━━━━━━━━━━━━━━━━━━━━━━━━━━━\u001b[0m \u001b[32m1.5/1.5 MB\u001b[0m \u001b[31m141.1 MB/s\u001b[0m  \u001b[33m0:00:00\u001b[0m\n",
      "\u001b[?25hDownloading pyparsing-3.2.5-py3-none-any.whl (113 kB)\n",
      "Installing collected packages: pyparsing, kiwisolver, fonttools, cycler, contourpy, matplotlib\n",
      "\u001b[2K   \u001b[90m━━━━━━━━━━━━━━━━━━━━━━━━━━━━━━━━━━━━━━━━\u001b[0m \u001b[32m6/6\u001b[0m [matplotlib]6\u001b[0m [matplotlib]\n",
      "\u001b[1A\u001b[2KSuccessfully installed contourpy-1.3.3 cycler-0.12.1 fonttools-4.60.1 kiwisolver-1.4.9 matplotlib-3.10.6 pyparsing-3.2.5\n",
      "\u001b[33mWARNING: Running pip as the 'root' user can result in broken permissions and conflicting behaviour with the system package manager, possibly rendering your system unusable. It is recommended to use a virtual environment instead: https://pip.pypa.io/warnings/venv. Use the --root-user-action option if you know what you are doing and want to suppress this warning.\u001b[0m\u001b[33m\n",
      "\u001b[0m"
     ]
    }
   ],
   "source": [
    "!pip install matplotlib"
   ]
  },
  {
   "cell_type": "code",
   "execution_count": 10,
   "id": "38b45b5a-2cde-406a-9749-5bb304477607",
   "metadata": {},
   "outputs": [
    {
     "data": {
      "image/png": "[encoded data removed]",
      "text/plain": [
       "<Figure size 600x600 with 1 Axes>"
      ]
     },
     "metadata": {},
     "output_type": "display_data"
    },
    {
     "data": {
      "image/png": "[encoded data removed]",
      "text/plain": [
       "<Figure size 600x600 with 1 Axes>"
      ]
     },
     "metadata": {},
     "output_type": "display_data"
    },
    {
     "data": {
      "image/png": "[encoded data removed]",
      "text/plain": [
       "<Figure size 600x600 with 1 Axes>"
      ]
     },
     "metadata": {},
     "output_type": "display_data"
    },
    {
     "data": {
      "image/png": "[encoded data removed]",
      "text/plain": [
       "<Figure size 600x600 with 1 Axes>"
      ]
     },
     "metadata": {},
     "output_type": "display_data"
    }
   ],
   "source": [
    "import matplotlib.pyplot as plt\n",
    "\n",
    "for obj_name, dfx in coord_flags.items():\n",
    "    if dfx.empty or 'latitude' not in dfx.columns or 'longitude' not in dfx.columns:\n",
    "        continue\n",
    "\n",
    "    fig, ax = plt.subplots(figsize=(6,6))\n",
    "    ok = dfx[dfx['moscow_ok']]\n",
    "    bad = dfx[~dfx['moscow_ok']]\n",
    "\n",
    "    # Все нормальные точки — серым\n",
    "    ax.scatter(ok['longitude'], ok['latitude'], s=2, c='lightgray', label='ok')\n",
    "\n",
    "    # Выбросы — красным\n",
    "    if not bad.empty:\n",
    "        ax.scatter(bad['longitude'], bad['latitude'], s=10, c='red', label='outliers')\n",
    "\n",
    "    # Центр Москвы (Кремль)\n",
    "    ax.scatter([CTR_LON], [CTR_LAT], c='blue', s=50, marker='x', label='Moscow center')\n",
    "\n",
    "    ax.set_title(f\"{obj_name}\\nВсего={len(dfx)}, выбросов={len(bad)}\")\n",
    "    ax.set_xlabel(\"Долгота\")\n",
    "    ax.set_ylabel(\"Широта\")\n",
    "    ax.legend(markerscale=3)\n",
    "    plt.show()\n"
   ]
  },
  {
   "cell_type": "code",
   "execution_count": 11,
   "id": "a54acab5-2f48-4606-ba38-ffb74532900a",
   "metadata": {},
   "outputs": [
    {
     "name": "stdout",
     "output_type": "stream",
     "text": [
      "[WARN] Parquet save failed for Объекты недвижимости, не соответствующие градостроительным нормам_00-022_Август: Unable to find a usable engine; tried using: 'pyarrow', 'fastparquet'.\n",
      "A suitable version of pyarrow or fastparquet is required for parquet support.\n",
      "Trying to import the above resulted in these errors:\n",
      " - Missing optional dependency 'pyarrow'. pyarrow is required for parquet support. Use pip or conda to install pyarrow.\n",
      " - Missing optional dependency 'fastparquet'. fastparquet is required for parquet support. Use pip or conda to install fastparquet.\n",
      "[WARN] Parquet save failed for Объекты недвижимости, не соответствующие градостроительным нормам_00-022_Июль: Unable to find a usable engine; tried using: 'pyarrow', 'fastparquet'.\n",
      "A suitable version of pyarrow or fastparquet is required for parquet support.\n",
      "Trying to import the above resulted in these errors:\n",
      " - Missing optional dependency 'pyarrow'. pyarrow is required for parquet support. Use pip or conda to install pyarrow.\n",
      " - Missing optional dependency 'fastparquet'. fastparquet is required for parquet support. Use pip or conda to install fastparquet.\n",
      "[WARN] Parquet save failed for Строительная площадка_18-001_Август: Unable to find a usable engine; tried using: 'pyarrow', 'fastparquet'.\n",
      "A suitable version of pyarrow or fastparquet is required for parquet support.\n",
      "Trying to import the above resulted in these errors:\n",
      " - Missing optional dependency 'pyarrow'. pyarrow is required for parquet support. Use pip or conda to install pyarrow.\n",
      " - Missing optional dependency 'fastparquet'. fastparquet is required for parquet support. Use pip or conda to install fastparquet.\n",
      "[WARN] Parquet save failed for Строительная площадка_18-001_Июль: Unable to find a usable engine; tried using: 'pyarrow', 'fastparquet'.\n",
      "A suitable version of pyarrow or fastparquet is required for parquet support.\n",
      "Trying to import the above resulted in these errors:\n",
      " - Missing optional dependency 'pyarrow'. pyarrow is required for parquet support. Use pip or conda to install pyarrow.\n",
      " - Missing optional dependency 'fastparquet'. fastparquet is required for parquet support. Use pip or conda to install fastparquet.\n",
      "\n",
      "=== Итог очистки ===\n"
     ]
    },
    {
     "data": {
      "text/html": [
       "<div>\n",
       "<style scoped>\n",
       "    .dataframe tbody tr th:only-of-type {\n",
       "        vertical-align: middle;\n",
       "    }\n",
       "\n",
       "    .dataframe tbody tr th {\n",
       "        vertical-align: top;\n",
       "    }\n",
       "\n",
       "    .dataframe thead th {\n",
       "        text-align: right;\n",
       "    }\n",
       "</style>\n",
       "<table border=\"1\" class=\"dataframe\">\n",
       "  <thead>\n",
       "    <tr style=\"text-align: right;\">\n",
       "      <th></th>\n",
       "      <th>dataset</th>\n",
       "      <th>n_all</th>\n",
       "      <th>n_good</th>\n",
       "      <th>n_outliers_removed</th>\n",
       "      <th>n_dedup_removed</th>\n",
       "    </tr>\n",
       "  </thead>\n",
       "  <tbody>\n",
       "    <tr>\n",
       "      <th>0</th>\n",
       "      <td>Объекты недвижимости, не соответствующие градо...</td>\n",
       "      <td>11898</td>\n",
       "      <td>11456</td>\n",
       "      <td>442</td>\n",
       "      <td>0</td>\n",
       "    </tr>\n",
       "    <tr>\n",
       "      <th>1</th>\n",
       "      <td>Объекты недвижимости, не соответствующие градо...</td>\n",
       "      <td>8635</td>\n",
       "      <td>8300</td>\n",
       "      <td>335</td>\n",
       "      <td>0</td>\n",
       "    </tr>\n",
       "    <tr>\n",
       "      <th>2</th>\n",
       "      <td>Строительная площадка_18-001_Август</td>\n",
       "      <td>15000</td>\n",
       "      <td>14596</td>\n",
       "      <td>404</td>\n",
       "      <td>0</td>\n",
       "    </tr>\n",
       "    <tr>\n",
       "      <th>3</th>\n",
       "      <td>Строительная площадка_18-001_Июль</td>\n",
       "      <td>15000</td>\n",
       "      <td>14460</td>\n",
       "      <td>540</td>\n",
       "      <td>0</td>\n",
       "    </tr>\n",
       "  </tbody>\n",
       "</table>\n",
       "</div>"
      ],
      "text/plain": [
       "                                             dataset  n_all  n_good  \\\n",
       "0  Объекты недвижимости, не соответствующие градо...  11898   11456   \n",
       "1  Объекты недвижимости, не соответствующие градо...   8635    8300   \n",
       "2                Строительная площадка_18-001_Август  15000   14596   \n",
       "3                  Строительная площадка_18-001_Июль  15000   14460   \n",
       "\n",
       "   n_outliers_removed  n_dedup_removed  \n",
       "0                 442                0  \n",
       "1                 335                0  \n",
       "2                 404                0  \n",
       "3                 540                0  "
      ]
     },
     "metadata": {},
     "output_type": "display_data"
    },
    {
     "name": "stdout",
     "output_type": "stream",
     "text": [
      "\n",
      "Файлы сохранены в: /tmp/cleaned\n"
     ]
    }
   ],
   "source": [
    "import os\n",
    "import pandas as pd\n",
    "from datetime import datetime\n",
    "\n",
    "# === 1) Папка для сохранения «очищенных» версий ===\n",
    "SAVE_DIR = \"/tmp/cleaned\"\n",
    "os.makedirs(SAVE_DIR, exist_ok=True)\n",
    "ts = datetime.now().strftime(\"%Y%m%d_%H%M%S\")\n",
    "\n",
    "# === 2) Удаляем выбросы и собираем сводку ===\n",
    "cleaned_data = {}\n",
    "summary_rows = []\n",
    "\n",
    "for obj_name, dfx in coord_flags.items():\n",
    "    # защитные проверки\n",
    "    if dfx is None or dfx.empty or 'moscow_ok' not in dfx.columns:\n",
    "        print(f\"[SKIP] {obj_name}: нет данных/флагов moscow_ok\")\n",
    "        continue\n",
    "\n",
    "    n_all = len(dfx)\n",
    "    n_bad = int((~dfx['moscow_ok']).sum())\n",
    "    n_good = n_all - n_bad\n",
    "\n",
    "    # не только фильтр, но и уберём явные NaN координаты\n",
    "    keep_mask = dfx['moscow_ok'] & dfx['coord_notna']\n",
    "    dfx_clean = dfx.loc[keep_mask].copy()\n",
    "\n",
    "    # (опционально) простая дедупликация: по ['camera','Имя файла'] если есть\n",
    "    dedup_keys = [c for c in ['camera','Имя файла'] if c in dfx_clean.columns]\n",
    "    if dedup_keys:\n",
    "        before = len(dfx_clean)\n",
    "        dfx_clean = dfx_clean.drop_duplicates(subset=dedup_keys, keep='first')\n",
    "        after = len(dfx_clean)\n",
    "        dedup_removed = before - after\n",
    "    else:\n",
    "        dedup_removed = 0\n",
    "\n",
    "    # Обновим основной контейнер loaded_data → заменить xlsx на очищенный\n",
    "    # (сохраним только исходные колонки + добавим полезные признаки)\n",
    "    base_df = loaded_data[obj_name]['xlsx']\n",
    "    if base_df is not None:\n",
    "        # переносим флаги обратно только для оставшихся строк (по индексу совпадает)\n",
    "        # чтобы не потерять столбцы, делаем merge по уникальному ключу, если есть\n",
    "        # 1) если есть 'Имя файла' — используем его как ключ\n",
    "        if 'Имя файла' in base_df.columns and 'Имя файла' in dfx_clean.columns:\n",
    "            to_save = base_df.merge(\n",
    "                dfx_clean[['Имя файла','dist_m_from_center','in_core_box']],\n",
    "                on='Имя файла', how='inner'\n",
    "            )\n",
    "        else:\n",
    "            # fallback: по индексу пересечения\n",
    "            to_save = base_df.loc[dfx_clean.index].copy()\n",
    "            # приклеим метрики, если индексы совпадают\n",
    "            to_save['dist_m_from_center'] = dfx_clean['dist_m_from_center']\n",
    "            if 'in_core_box' in dfx_clean.columns:\n",
    "                to_save['in_core_box'] = dfx_clean['in_core_box']\n",
    "    else:\n",
    "        to_save = dfx_clean.copy()\n",
    "\n",
    "    loaded_data[obj_name]['xlsx'] = to_save\n",
    "    cleaned_data[obj_name] = to_save\n",
    "\n",
    "    # === 3) Сохранить на диск (CSV + Parquet) ===\n",
    "    csv_path = os.path.join(SAVE_DIR, f\"{obj_name}__clean_{ts}.csv\")\n",
    "    pq_path  = os.path.join(SAVE_DIR, f\"{obj_name}__clean_{ts}.parquet\")\n",
    "    try:\n",
    "        to_save.to_csv(csv_path, index=False)\n",
    "    except Exception as e:\n",
    "        print(f\"[WARN] CSV save failed for {obj_name}: {e}\")\n",
    "    try:\n",
    "        to_save.to_parquet(pq_path, index=False)\n",
    "    except Exception as e:\n",
    "        print(f\"[WARN] Parquet save failed for {obj_name}: {e}\")\n",
    "\n",
    "    summary_rows.append({\n",
    "        \"dataset\": obj_name,\n",
    "        \"n_all\": n_all,\n",
    "        \"n_good\": n_good - dedup_removed,\n",
    "        \"n_outliers_removed\": n_bad,\n",
    "        \"n_dedup_removed\": dedup_removed\n",
    "    })\n",
    "\n",
    "# === 4) Сводная таблица по очистке ===\n",
    "clean_summary = pd.DataFrame(summary_rows).sort_values(\"dataset\").reset_index(drop=True)\n",
    "print(\"\\n=== Итог очистки ===\")\n",
    "display(clean_summary)\n",
    "\n",
    "print(f\"\\nФайлы сохранены в: {SAVE_DIR}\")\n"
   ]
  },
  {
   "cell_type": "code",
   "execution_count": 12,
   "id": "caf456b6-8299-46e6-9353-e1a980664cf9",
   "metadata": {},
   "outputs": [
    {
     "data": {
      "text/plain": [
       "{'Объекты недвижимости, не соответствующие градостроительным нормам_00-022_Август':                                       Имя файла  Гиперссылка  \\\n",
       " 0      b19788e8-ff7e-442a-9e3c-c9eefbcb42dc.jpg          NaN   \n",
       " 1      15b8bee9-54a1-4b56-9188-cdf0206833f0.jpg          NaN   \n",
       " 2      25073a6e-d418-44b3-9d00-77db20f635b4.jpg          NaN   \n",
       " 3      086dfadf-9cf7-4e35-888b-02fb5a3b77c1.jpg          NaN   \n",
       " 4      f9cc04d6-ece4-4f09-bdf9-229b1f743936.jpg          NaN   \n",
       " ...                                         ...          ...   \n",
       " 11451  2956dc4b-8b1e-4598-8446-6fff11262cb0.jpg          NaN   \n",
       " 11452  32aa8167-4559-4a99-9efc-7b4793c04b8c.jpg          NaN   \n",
       " 11453  747bfee5-5ec7-42cc-bb46-1bed5b744cc9.jpg          NaN   \n",
       " 11454  9cebfa1b-bf67-4401-ab9f-2cf739f42a0d.jpg          NaN   \n",
       " 11455  5737d2d6-3a2b-436a-9f79-94b632fb0944.jpg          NaN   \n",
       " \n",
       "                                      camera  latitude  longitude  TP  FP  \\\n",
       " 0      fb40ed24-21ef-458a-a239-038ab19932cc  55.57043   37.94224 NaN NaN   \n",
       " 1      cbf95b01-f708-45a3-9ec0-3603469b538e  55.97218   37.44981 NaN NaN   \n",
       " 2      cbf95b01-f708-45a3-9ec0-3603469b538e  55.97218   37.44981 NaN NaN   \n",
       " 3      cbf95b01-f708-45a3-9ec0-3603469b538e  55.97218   37.44981 NaN NaN   \n",
       " 4      cbf95b01-f708-45a3-9ec0-3603469b538e  55.97218   37.44981 NaN NaN   \n",
       " ...                                     ...       ...        ...  ..  ..   \n",
       " 11451  29ad9edb-d533-4272-a986-be24eb004851  55.73695   37.53902 NaN NaN   \n",
       " 11452  8b2675e2-7f40-47a9-a462-7c9feecd299c  55.70575   37.51352 NaN NaN   \n",
       " 11453  57aae8a4-582b-4309-8045-c8127a9f86ae  55.76654   37.69957 NaN NaN   \n",
       " 11454  750bf7e4-0f0f-4f1a-96af-607dc8c1f1c9  55.77740   37.66967 NaN NaN   \n",
       " 11455  31a713a9-b910-424b-b847-e0eaa2f70c70  55.77740   37.66967 NaN NaN   \n",
       " \n",
       "        Да/Нет                                Полный путь к файлу  \\\n",
       " 0         NaN  /tmp/Объекты недвижимости, не соответствующие ...   \n",
       " 1         NaN  /tmp/Объекты недвижимости, не соответствующие ...   \n",
       " 2         NaN  /tmp/Объекты недвижимости, не соответствующие ...   \n",
       " 3         NaN  /tmp/Объекты недвижимости, не соответствующие ...   \n",
       " 4         NaN  /tmp/Объекты недвижимости, не соответствующие ...   \n",
       " ...       ...                                                ...   \n",
       " 11451     NaN  /tmp/Объекты недвижимости, не соответствующие ...   \n",
       " 11452     NaN  /tmp/Объекты недвижимости, не соответствующие ...   \n",
       " 11453     NaN  /tmp/Объекты недвижимости, не соответствующие ...   \n",
       " 11454     NaN  /tmp/Объекты недвижимости, не соответствующие ...   \n",
       " 11455     NaN  /tmp/Объекты недвижимости, не соответствующие ...   \n",
       " \n",
       "        dist_m_from_center  in_core_box  \n",
       " 0            28579.234638         True  \n",
       " 1            26725.299187         True  \n",
       " 2            26725.299187         True  \n",
       " 3            26725.299187         True  \n",
       " 4            26725.299187         True  \n",
       " ...                   ...          ...  \n",
       " 11451         5217.845598         True  \n",
       " 11452         8290.741750         True  \n",
       " 11453         5354.424437         True  \n",
       " 11454         4328.597438         True  \n",
       " 11455         4328.597438         True  \n",
       " \n",
       " [11456 rows x 11 columns],\n",
       " 'Объекты недвижимости, не соответствующие градостроительным нормам_00-022_Июль':                                      Имя файла  Гиперссылка  \\\n",
       " 0     20e2b4d4-d772-44e4-828b-92e096bba7e5.jpg          NaN   \n",
       " 1     3d465f4c-7516-4720-a2e5-bf5a94992516.jpg          NaN   \n",
       " 2     041eaa01-9141-49a2-a37d-e482350ef246.jpg          NaN   \n",
       " 3     6072a19c-e119-4e32-9fe4-0ba0c31aaa01.jpg          NaN   \n",
       " 4     69df724b-24cd-476e-b318-a7e89526a483.jpg          NaN   \n",
       " ...                                        ...          ...   \n",
       " 8295  7552ac1e-6975-4eb2-a17b-5c525c2f57f5.jpg          NaN   \n",
       " 8296  c9f03520-cda2-4d16-be98-0e401d0bd34f.jpg          NaN   \n",
       " 8297  e74aecb2-faea-4458-95d3-32d7f168f3e4.jpg          NaN   \n",
       " 8298  7abdae92-4045-42f3-8f59-68d1aae3547f.jpg          NaN   \n",
       " 8299  a1cfc3c5-213a-49bd-b0fd-2b40bbbaa368.jpg          NaN   \n",
       " \n",
       "                                     camera  latitude  longitude  TP  FP  \\\n",
       " 0     797901ad-53b1-41b8-99d1-d59d59c863d5  55.62441   37.68070 NaN NaN   \n",
       " 1     5e5b9944-4f9e-4223-bf96-0bc0c8a93dfa  55.70134   37.46031 NaN NaN   \n",
       " 2     5e5b9944-4f9e-4223-bf96-0bc0c8a93dfa  55.70134   37.46031 NaN NaN   \n",
       " 3     5e5b9944-4f9e-4223-bf96-0bc0c8a93dfa  55.70134   37.46031 NaN NaN   \n",
       " 4     8b2675e2-7f40-47a9-a462-7c9feecd299c  55.69778   37.46203 NaN NaN   \n",
       " ...                                    ...       ...        ...  ..  ..   \n",
       " 8295  ed2bf0f1-3a66-4913-896e-4420a9796c0b  55.70461   37.61848 NaN NaN   \n",
       " 8296  fb40ed24-21ef-458a-a239-038ab19932cc  55.81968   37.77786 NaN NaN   \n",
       " 8297  8cde1fd0-eca1-4510-86ab-3c743b65fdfc  55.74598   37.70807 NaN NaN   \n",
       " 8298  ed2bf0f1-3a66-4913-896e-4420a9796c0b  55.66760   37.58027 NaN NaN   \n",
       " 8299  71239877-3cfe-4ed6-87a7-5c84ab51c75a  55.75130   37.58001 NaN NaN   \n",
       " \n",
       "       Да/Нет                                Полный путь к файлу  \\\n",
       " 0        NaN  /tmp/Объекты недвижимости, не соответствующие ...   \n",
       " 1        NaN  /tmp/Объекты недвижимости, не соответствующие ...   \n",
       " 2        NaN  /tmp/Объекты недвижимости, не соответствующие ...   \n",
       " 3        NaN  /tmp/Объекты недвижимости, не соответствующие ...   \n",
       " 4        NaN  /tmp/Объекты недвижимости, не соответствующие ...   \n",
       " ...      ...                                                ...   \n",
       " 8295     NaN  /tmp/Объекты недвижимости, не соответствующие ...   \n",
       " 8296     NaN  /tmp/Объекты недвижимости, не соответствующие ...   \n",
       " 8297     NaN  /tmp/Объекты недвижимости, не соответствующие ...   \n",
       " 8298     NaN  /tmp/Объекты недвижимости, не соответствующие ...   \n",
       " 8299     NaN  /tmp/Объекты недвижимости, не соответствующие ...   \n",
       " \n",
       "       dist_m_from_center  in_core_box  \n",
       " 0           14633.550517         True  \n",
       " 1           11349.878369         True  \n",
       " 2           11349.878369         True  \n",
       " 3           11349.878369         True  \n",
       " 4           11456.756813         True  \n",
       " ...                  ...          ...  \n",
       " 8295         5185.465437         True  \n",
       " 8296        12541.220050         True  \n",
       " 8297         5640.853766         True  \n",
       " 8298         9602.989998         True  \n",
       " 8299         2403.855627         True  \n",
       " \n",
       " [8300 rows x 11 columns],\n",
       " 'Строительная площадка_18-001_Август':                                       Имя файла  Гиперссылка  \\\n",
       " 0      4245ac8c-8289-40dd-a9b6-a07ad02b707e.jpg          NaN   \n",
       " 1      c8f0715e-414e-400c-b3fa-7ce3109179f7.jpg          NaN   \n",
       " 2      b93a5575-2e4c-410f-891c-b08859c22d6b.jpg          NaN   \n",
       " 3      5906532f-4060-457e-b9fe-88807680c50f.jpg          NaN   \n",
       " 4      21586c1e-c686-422d-8518-184826de6d60.jpg          NaN   \n",
       " ...                                         ...          ...   \n",
       " 14591  36306e67-c8c8-4db7-8423-28de3b2c3389.jpg          NaN   \n",
       " 14592  3f5e9824-af85-40f2-b93a-bf87dc8f91b1.jpg          NaN   \n",
       " 14593  f9b7591f-6f98-427b-9609-199416924515.jpg          NaN   \n",
       " 14594  0b8251fe-f2b0-4b95-9fdf-07934f17058d.jpg          NaN   \n",
       " 14595  1c6a5efa-a8a6-488b-ba9f-54162ef923a6.jpg          NaN   \n",
       " \n",
       "                                      camera  latitude  longitude  TP  FP  \\\n",
       " 0      fb40ed24-21ef-458a-a239-038ab19932cc  55.89481   37.68944 NaN NaN   \n",
       " 1      fb40ed24-21ef-458a-a239-038ab19932cc  55.91006   37.59163 NaN NaN   \n",
       " 2      797901ad-53b1-41b8-99d1-d59d59c863d5  55.91006   37.59163 NaN NaN   \n",
       " 3      fb40ed24-21ef-458a-a239-038ab19932cc  55.91176   37.58951 NaN NaN   \n",
       " 4      fb40ed24-21ef-458a-a239-038ab19932cc  55.82236   37.77449 NaN NaN   \n",
       " ...                                     ...       ...        ...  ..  ..   \n",
       " 14591  fb40ed24-21ef-458a-a239-038ab19932cc  55.78709   37.74344 NaN NaN   \n",
       " 14592  a28f597e-d1cd-4d3b-b572-c86d033412e9  55.75496   37.50466 NaN NaN   \n",
       " 14593  caa4772d-6278-4484-a046-ee25514bf521  55.77742   37.51552 NaN NaN   \n",
       " 14594  b23a39fd-838c-435a-bacd-b4d6bb842c62  55.72639   37.66484 NaN NaN   \n",
       " 14595  fb9a37cc-57a6-447c-98bb-0b299f09c809  55.72639   37.66484 NaN NaN   \n",
       " \n",
       "        Да/Нет                                Полный путь к файлу  \\\n",
       " 0         NaN  /tmp/Строительная площадка_18-001_Август/Строи...   \n",
       " 1         NaN  /tmp/Строительная площадка_18-001_Август/Строи...   \n",
       " 2         NaN  /tmp/Строительная площадка_18-001_Август/Строи...   \n",
       " 3         NaN  /tmp/Строительная площадка_18-001_Август/Строи...   \n",
       " 4         NaN  /tmp/Строительная площадка_18-001_Август/Строи...   \n",
       " ...       ...                                                ...   \n",
       " 14591     NaN  /tmp/Строительная площадка_18-001_Август/Строи...   \n",
       " 14592     NaN  /tmp/Строительная площадка_18-001_Август/Строи...   \n",
       " 14593     NaN  /tmp/Строительная площадка_18-001_Август/Строи...   \n",
       " 14594     NaN  /tmp/Строительная площадка_18-001_Август/Строи...   \n",
       " 14595     NaN  /tmp/Строительная площадка_18-001_Август/Строи...   \n",
       " \n",
       "        dist_m_from_center  in_core_box  \n",
       " 0            16568.682310         True  \n",
       " 1            17738.628132         True  \n",
       " 2            17738.628132         True  \n",
       " 3            17939.663565         True  \n",
       " 4            12559.592768         True  \n",
       " ...                   ...          ...  \n",
       " 14591         8777.094354         True  \n",
       " 14592         7130.823024         True  \n",
       " 14593         7064.847930         True  \n",
       " 14594         4010.055151         True  \n",
       " 14595         4010.055151         True  \n",
       " \n",
       " [14596 rows x 11 columns],\n",
       " 'Строительная площадка_18-001_Июль':                                       Имя файла  Гиперссылка  \\\n",
       " 0      8d8e1306-2d4c-4d83-8866-b4223119be86.jpg          NaN   \n",
       " 1      e1eddca2-eb1a-4a77-97ce-b86620cc6b40.jpg          NaN   \n",
       " 2      2001e229-c2cb-4e2f-98cf-304948aca3a5.jpg          NaN   \n",
       " 3      4d83b611-c9eb-42aa-968c-f3cd5e857b74.jpg          NaN   \n",
       " 4      e21dc14b-840b-4baa-9101-07de6433edda.jpg          NaN   \n",
       " ...                                         ...          ...   \n",
       " 14455  44a091e7-df5f-4718-ba7f-d428993bb622.jpg          NaN   \n",
       " 14456  aedee970-b8fe-431d-b0b4-549bf1453f52.jpg          NaN   \n",
       " 14457  74868b53-5564-41e8-8dda-8427b51d8fa7.jpg          NaN   \n",
       " 14458  994f45f2-8396-435f-9397-868d07c8c4a5.jpg          NaN   \n",
       " 14459  207c3599-6c2f-4e73-bf42-7f1810a2bf77.jpg          NaN   \n",
       " \n",
       "                                      camera  latitude  longitude  TP  FP  \\\n",
       " 0      5e5b9944-4f9e-4223-bf96-0bc0c8a93dfa  55.68470   37.42118 NaN NaN   \n",
       " 1      5adecbcf-6742-48b8-951f-8e3abc9509e4  55.70134   37.46031 NaN NaN   \n",
       " 2      9ca2abb7-5978-4e19-b2b4-4d185fa6739e  55.68501   37.42154 NaN NaN   \n",
       " 3      8b2675e2-7f40-47a9-a462-7c9feecd299c  55.69778   37.46203 NaN NaN   \n",
       " 4      8b2675e2-7f40-47a9-a462-7c9feecd299c  55.69778   37.46203 NaN NaN   \n",
       " ...                                     ...       ...        ...  ..  ..   \n",
       " 14455  797901ad-53b1-41b8-99d1-d59d59c863d5  55.75123   37.85043 NaN NaN   \n",
       " 14456  fb40ed24-21ef-458a-a239-038ab19932cc  55.75123   37.85043 NaN NaN   \n",
       " 14457  71239877-3cfe-4ed6-87a7-5c84ab51c75a  55.69093   37.44360 NaN NaN   \n",
       " 14458  8beacb4f-617e-4b34-8030-60c4dff5f8d1  55.69074   37.44312 NaN NaN   \n",
       " 14459  797901ad-53b1-41b8-99d1-d59d59c863d5  55.81680   37.79665 NaN NaN   \n",
       " \n",
       "        Да/Нет                                Полный путь к файлу  \\\n",
       " 0         NaN  /tmp/Строительная площадка_18-001_Июль/Строите...   \n",
       " 1         NaN  /tmp/Строительная площадка_18-001_Июль/Строите...   \n",
       " 2         NaN  /tmp/Строительная площадка_18-001_Июль/Строите...   \n",
       " 3         NaN  /tmp/Строительная площадка_18-001_Июль/Строите...   \n",
       " 4         NaN  /tmp/Строительная площадка_18-001_Июль/Строите...   \n",
       " ...       ...                                                ...   \n",
       " 14455     NaN  /tmp/Строительная площадка_18-001_Июль/Строите...   \n",
       " 14456     NaN  /tmp/Строительная площадка_18-001_Июль/Строите...   \n",
       " 14457     NaN  /tmp/Строительная площадка_18-001_Июль/Строите...   \n",
       " 14458     NaN  /tmp/Строительная площадка_18-001_Июль/Строите...   \n",
       " 14459     NaN  /tmp/Строительная площадка_18-001_Июль/Строите...   \n",
       " \n",
       "        dist_m_from_center  in_core_box  \n",
       " 0            14400.234952         True  \n",
       " 1            11349.878369         True  \n",
       " 2            14363.148742         True  \n",
       " 3            11456.756813         True  \n",
       " 4            11456.756813         True  \n",
       " ...                   ...          ...  \n",
       " 14455        14518.775198         True  \n",
       " 14456        14518.775198         True  \n",
       " 14457        12839.502815         True  \n",
       " 14458        12876.195522         True  \n",
       " 14459        13316.274312         True  \n",
       " \n",
       " [14460 rows x 11 columns]}"
      ]
     },
     "execution_count": 12,
     "metadata": {},
     "output_type": "execute_result"
    }
   ],
   "source": [
    "cleaned_data"
   ]
  },
  {
   "cell_type": "code",
   "execution_count": 13,
   "id": "782ff8d4-be75-4a27-903b-25394964a211",
   "metadata": {},
   "outputs": [
    {
     "name": "stdout",
     "output_type": "stream",
     "text": [
      "[merge] from dict: 4 datasets\n",
      "[raw concat] rows=48812 | NaN lat/lon=0 | unique paths=48812\n",
      "[bbox] Moscow filter: 48812 -> 48812\n",
      "[dedup] by image_path: 48812 -> 48812\n",
      "[save] merged CSV -> /tmp/geo/frames.csv (rows=48812)\n",
      "[probe] нашёл строку примера:\n"
     ]
    },
    {
     "data": {
      "text/html": [
       "<div>\n",
       "<style scoped>\n",
       "    .dataframe tbody tr th:only-of-type {\n",
       "        vertical-align: middle;\n",
       "    }\n",
       "\n",
       "    .dataframe tbody tr th {\n",
       "        vertical-align: top;\n",
       "    }\n",
       "\n",
       "    .dataframe thead th {\n",
       "        text-align: right;\n",
       "    }\n",
       "</style>\n",
       "<table border=\"1\" class=\"dataframe\">\n",
       "  <thead>\n",
       "    <tr style=\"text-align: right;\">\n",
       "      <th></th>\n",
       "      <th>image_path</th>\n",
       "      <th>lat</th>\n",
       "      <th>lon</th>\n",
       "      <th>_dataset</th>\n",
       "    </tr>\n",
       "  </thead>\n",
       "  <tbody>\n",
       "    <tr>\n",
       "      <th>34819</th>\n",
       "      <td>/tmp/Строительная площадка_18-001_Июль/Строите...</td>\n",
       "      <td>55.74976</td>\n",
       "      <td>37.82994</td>\n",
       "      <td>Строительная площадка_18-001_Июль</td>\n",
       "    </tr>\n",
       "  </tbody>\n",
       "</table>\n",
       "</div>"
      ],
      "text/plain": [
       "                                              image_path       lat       lon  \\\n",
       "34819  /tmp/Строительная площадка_18-001_Июль/Строите...  55.74976  37.82994   \n",
       "\n",
       "                                _dataset  \n",
       "34819  Строительная площадка_18-001_Июль  "
      ]
     },
     "metadata": {},
     "output_type": "display_data"
    },
    {
     "name": "stdout",
     "output_type": "stream",
     "text": [
      "[final] rows=48812 | NaN lat/lon=0 | unique paths=48812\n"
     ]
    }
   ],
   "source": [
    "# === Merge all cleaned datasets into one CSV with columns: image_path, lat, lon ===\n",
    "import os\n",
    "import re\n",
    "import math\n",
    "import glob\n",
    "import pandas as pd\n",
    "from pathlib import Path\n",
    "from datetime import datetime\n",
    "\n",
    "# ---------- CONFIG ----------\n",
    "# 1) Если у тебя уже есть словарь cleaned_data = {name: df, ...}  -> оставь CLEANED_DICT=None и передай его в merge_all(cleaned_dict=cleaned_data)\n",
    "# 2) Если хочешь собрать из файлов, укажи папку с CSV после твоей очистки:\n",
    "FILES_DIR = \"/tmp/cleaned\"           # папка, где лежат твои *_clean_*.csv\n",
    "FILES_GLOB = \"*__clean_*.csv\"        # маска файлов\n",
    "OUT_CSV    = \"/tmp/geo/frames.csv\"   # куда сохранить объединённый CSV\n",
    "CHECK_FILE_EXISTS = False            # если True — оставим только реально существующие файлы\n",
    "FILTER_MOSCOW_BBOX = True            # ограничить координаты рамкой Москвы/МО (можно выключить)\n",
    "MOSCOW_BBOX = dict(lat_min=54.5, lat_max=56.8, lon_min=35.0, lon_max=41.5)  # примерно МО\n",
    "\n",
    "Path(OUT_CSV).parent.mkdir(parents=True, exist_ok=True)\n",
    "\n",
    "# ---------- UTILS ----------\n",
    "def _first_existing_col(df, candidates):\n",
    "    for c in candidates:\n",
    "        if c in df.columns:\n",
    "            return c\n",
    "    return None\n",
    "\n",
    "def _to_float_safe(x):\n",
    "    try:\n",
    "        return float(str(x).replace(\",\", \".\"))\n",
    "    except Exception:\n",
    "        return math.nan\n",
    "\n",
    "def _norm_path(p):\n",
    "    if pd.isna(p):\n",
    "        return None\n",
    "    p = str(p).strip().strip('\"').strip(\"'\")\n",
    "    # уберём двойные слэши и ~\n",
    "    p = os.path.expanduser(p)\n",
    "    p = os.path.normpath(p)\n",
    "    return p\n",
    "\n",
    "def _pick_path(df):\n",
    "    \"\"\"Выбираем лучший столбец с путём к файлу\"\"\"\n",
    "    # приоритет: Полный путь -> image_path -> Гиперссылка -> path -> file / Имя файла (как fallback)\n",
    "    path_col = _first_existing_col(df, [\n",
    "        \"Полный путь к файлу\", \"image_path\", \"Гиперссылка\", \"path\", \"full_path\"\n",
    "    ])\n",
    "    if path_col is None:\n",
    "        # иногда есть только имя файла; вернём этот столбец, но предупредим\n",
    "        path_col = _first_existing_col(df, [\"Имя файла\", \"filename\", \"file\"])\n",
    "    return path_col\n",
    "\n",
    "def _pick_latlon(df):\n",
    "    lat_col = _first_existing_col(df, [\"latitude\", \"lat\", \"широта\", \"Широта\"])\n",
    "    lon_col = _first_existing_col(df, [\"longitude\", \"lon\", \"долгота\", \"Долгота\"])\n",
    "    return lat_col, lon_col\n",
    "\n",
    "def _filter_bbox(df, bbox):\n",
    "    m = (\n",
    "        (df[\"lat\"] >= bbox[\"lat_min\"]) & (df[\"lat\"] <= bbox[\"lat_max\"]) &\n",
    "        (df[\"lon\"] >= bbox[\"lon_min\"]) & (df[\"lon\"] <= bbox[\"lon_max\"])\n",
    "    )\n",
    "    return df.loc[m].copy()\n",
    "\n",
    "def _summarize(df, title=\"summary\"):\n",
    "    n = len(df)\n",
    "    n_nan = int(df[[\"lat\",\"lon\"]].isna().any(axis=1).sum())\n",
    "    print(f\"[{title}] rows={n} | NaN lat/lon={n_nan} | unique paths={df['image_path'].nunique()}\")\n",
    "\n",
    "# ---------- CORE ----------\n",
    "def merge_all(cleaned_dict=None, files_dir=FILES_DIR, files_glob=FILES_GLOB, \n",
    "              out_csv=OUT_CSV, check_exists=CHECK_FILE_EXISTS, filter_bbox=FILTER_MOSCOW_BBOX):\n",
    "    rows = []\n",
    "    src_count = 0\n",
    "\n",
    "    if cleaned_dict is not None:\n",
    "        items = list(cleaned_dict.items())\n",
    "        print(f\"[merge] from dict: {len(items)} datasets\")\n",
    "        for name, df in items:\n",
    "            if df is None or df.empty:\n",
    "                continue\n",
    "            src_count += 1\n",
    "            path_col = _pick_path(df)\n",
    "            lat_col, lon_col = _pick_latlon(df)\n",
    "            if path_col is None or lat_col is None or lon_col is None:\n",
    "                print(f\"[WARN] {name}: missing required columns\")\n",
    "                continue\n",
    "            tmp = pd.DataFrame({\n",
    "                \"image_path\": df[path_col].map(_norm_path),\n",
    "                \"lat\": df[lat_col].map(_to_float_safe),\n",
    "                \"lon\": df[lon_col].map(_to_float_safe),\n",
    "                \"_dataset\": name\n",
    "            })\n",
    "            rows.append(tmp)\n",
    "    else:\n",
    "        # читать CSV с диска\n",
    "        files = sorted(glob.glob(str(Path(files_dir)/files_glob)))\n",
    "        print(f\"[merge] from files: found {len(files)} CSV in {files_dir}\")\n",
    "        for csv_path in files:\n",
    "            try:\n",
    "                df = pd.read_csv(csv_path)\n",
    "            except Exception as e:\n",
    "                print(f\"[WARN] cannot read {csv_path}: {e}\")\n",
    "                continue\n",
    "            src_count += 1\n",
    "            name = Path(csv_path).stem\n",
    "            path_col = _pick_path(df)\n",
    "            lat_col, lon_col = _pick_latlon(df)\n",
    "            if path_col is None or lat_col is None or lon_col is None:\n",
    "                print(f\"[WARN] {name}: missing required columns\")\n",
    "                continue\n",
    "            tmp = pd.DataFrame({\n",
    "                \"image_path\": df[path_col].map(_norm_path),\n",
    "                \"lat\": df[lat_col].map(_to_float_safe),\n",
    "                \"lon\": df[lon_col].map(_to_float_safe),\n",
    "                \"_dataset\": name\n",
    "            })\n",
    "            rows.append(tmp)\n",
    "\n",
    "    assert len(rows)>0, \"Не найдено ни одной таблицы с нужными колонками\"\n",
    "    data = pd.concat(rows, ignore_index=True)\n",
    "\n",
    "    # базовая чистка\n",
    "    _summarize(data, \"raw concat\")\n",
    "    data = data.dropna(subset=[\"image_path\", \"lat\", \"lon\"]).copy()\n",
    "\n",
    "    if check_exists:\n",
    "        exists_mask = data[\"image_path\"].map(lambda p: Path(p).exists())\n",
    "        data = data.loc[exists_mask].copy()\n",
    "        print(f\"[fs] kept only existing files: {exists_mask.sum()}/{len(exists_mask)}\")\n",
    "\n",
    "    # рамка Москвы/МО\n",
    "    if filter_bbox:\n",
    "        before = len(data)\n",
    "        data = _filter_bbox(data, MOSCOW_BBOX)\n",
    "        print(f\"[bbox] Moscow filter: {before} -> {len(data)}\")\n",
    "\n",
    "    # дубликаты по пути (сохраняем первую встречу)\n",
    "    before = len(data)\n",
    "    data = data.drop_duplicates(subset=[\"image_path\"]).reset_index(drop=True)\n",
    "    print(f\"[dedup] by image_path: {before} -> {len(data)}\")\n",
    "\n",
    "    # финальная валидация диапазонов\n",
    "    def in_valid_range(lat, lon):\n",
    "        return -90 <= lat <= 90 and -180 <= lon <= 180\n",
    "    data = data.loc[data.apply(lambda r: in_valid_range(r[\"lat\"], r[\"lon\"]), axis=1)].reset_index(drop=True)\n",
    "\n",
    "    # сохранить\n",
    "    out_csv = Path(out_csv)\n",
    "    out_csv.parent.mkdir(parents=True, exist_ok=True)\n",
    "    data[[\"image_path\", \"lat\", \"lon\"]].to_csv(out_csv, index=False)\n",
    "    print(f\"[save] merged CSV -> {out_csv} (rows={len(data)})\")\n",
    "\n",
    "    # мини-проверка на указанном примере\n",
    "    probe_path = \"/tmp/Строительная площадка_18-001_Июль/Строительная площадка_18-001_Июль/67071564-1155-435f-bc7a-2ede18d45a0d.jpg\"\n",
    "    if (data[\"image_path\"] == os.path.normpath(probe_path)).any():\n",
    "        probe = data.loc[data[\"image_path\"] == os.path.normpath(probe_path)]\n",
    "        print(\"[probe] нашёл строку примера:\")\n",
    "        display(probe)\n",
    "    else:\n",
    "        print(\"[probe] строка примера не найдена (проверь путь/регист/расширение)\")\n",
    "\n",
    "    _summarize(data, \"final\")\n",
    "    return data\n",
    "\n",
    "# run\n",
    "merged = merge_all(cleaned_dict=cleaned_data, out_csv=OUT_CSV)\n"
   ]
  },
  {
   "cell_type": "code",
   "execution_count": 14,
   "id": "84ed8d5c-cfd7-4a23-b5ab-b31950ec3492",
   "metadata": {},
   "outputs": [
    {
     "data": {
      "text/html": [
       "<div>\n",
       "<style scoped>\n",
       "    .dataframe tbody tr th:only-of-type {\n",
       "        vertical-align: middle;\n",
       "    }\n",
       "\n",
       "    .dataframe tbody tr th {\n",
       "        vertical-align: top;\n",
       "    }\n",
       "\n",
       "    .dataframe thead th {\n",
       "        text-align: right;\n",
       "    }\n",
       "</style>\n",
       "<table border=\"1\" class=\"dataframe\">\n",
       "  <thead>\n",
       "    <tr style=\"text-align: right;\">\n",
       "      <th></th>\n",
       "      <th>image_path</th>\n",
       "      <th>lat</th>\n",
       "      <th>lon</th>\n",
       "      <th>_dataset</th>\n",
       "    </tr>\n",
       "  </thead>\n",
       "  <tbody>\n",
       "    <tr>\n",
       "      <th>0</th>\n",
       "      <td>/tmp/Объекты недвижимости, не соответствующие ...</td>\n",
       "      <td>55.57043</td>\n",
       "      <td>37.94224</td>\n",
       "      <td>Объекты недвижимости, не соответствующие градо...</td>\n",
       "    </tr>\n",
       "    <tr>\n",
       "      <th>1</th>\n",
       "      <td>/tmp/Объекты недвижимости, не соответствующие ...</td>\n",
       "      <td>55.97218</td>\n",
       "      <td>37.44981</td>\n",
       "      <td>Объекты недвижимости, не соответствующие градо...</td>\n",
       "    </tr>\n",
       "    <tr>\n",
       "      <th>2</th>\n",
       "      <td>/tmp/Объекты недвижимости, не соответствующие ...</td>\n",
       "      <td>55.97218</td>\n",
       "      <td>37.44981</td>\n",
       "      <td>Объекты недвижимости, не соответствующие градо...</td>\n",
       "    </tr>\n",
       "    <tr>\n",
       "      <th>3</th>\n",
       "      <td>/tmp/Объекты недвижимости, не соответствующие ...</td>\n",
       "      <td>55.97218</td>\n",
       "      <td>37.44981</td>\n",
       "      <td>Объекты недвижимости, не соответствующие градо...</td>\n",
       "    </tr>\n",
       "    <tr>\n",
       "      <th>4</th>\n",
       "      <td>/tmp/Объекты недвижимости, не соответствующие ...</td>\n",
       "      <td>55.97218</td>\n",
       "      <td>37.44981</td>\n",
       "      <td>Объекты недвижимости, не соответствующие градо...</td>\n",
       "    </tr>\n",
       "  </tbody>\n",
       "</table>\n",
       "</div>"
      ],
      "text/plain": [
       "                                          image_path       lat       lon  \\\n",
       "0  /tmp/Объекты недвижимости, не соответствующие ...  55.57043  37.94224   \n",
       "1  /tmp/Объекты недвижимости, не соответствующие ...  55.97218  37.44981   \n",
       "2  /tmp/Объекты недвижимости, не соответствующие ...  55.97218  37.44981   \n",
       "3  /tmp/Объекты недвижимости, не соответствующие ...  55.97218  37.44981   \n",
       "4  /tmp/Объекты недвижимости, не соответствующие ...  55.97218  37.44981   \n",
       "\n",
       "                                            _dataset  \n",
       "0  Объекты недвижимости, не соответствующие градо...  \n",
       "1  Объекты недвижимости, не соответствующие градо...  \n",
       "2  Объекты недвижимости, не соответствующие градо...  \n",
       "3  Объекты недвижимости, не соответствующие градо...  \n",
       "4  Объекты недвижимости, не соответствующие градо...  "
      ]
     },
     "execution_count": 14,
     "metadata": {},
     "output_type": "execute_result"
    }
   ],
   "source": [
    "merged.head()"
   ]
  },
  {
   "cell_type": "code",
   "execution_count": 15,
   "id": "d3d14a10-4b35-4410-8a06-c7d4f92dfa1a",
   "metadata": {},
   "outputs": [
    {
     "data": {
      "application/vnd.jupyter.widget-view+json": {
       "model_id": "56a2ac617fe548f99122d626b73b23ab",
       "version_major": 2,
       "version_minor": 0
      },
      "text/plain": [
       "copy images:   0%|          | 0/48812 [00:00<?, ?it/s]"
      ]
     },
     "metadata": {},
     "output_type": "display_data"
    },
    {
     "name": "stdout",
     "output_type": "stream",
     "text": [
      "[ok] Dataset ready in /tmp/data\n"
     ]
    }
   ],
   "source": [
    "\n",
    "# == Dataset preparation for GPS regression ==\n",
    "# This cell defines a helper function to convert a CSV file with columns\n",
    "# (image_path, lat, lon) into the directory structure expected by the\n",
    "# GPS regression model.  It copies or hard-links the original images\n",
    "# into `out_dir/images` and writes a JSON file `exif_data.json` that\n",
    "# contains the latitude and longitude for each image.  The resulting\n",
    "# directory can be passed directly to the training function below.\n",
    "\n",
    "import pandas as pd\n",
    "import shutil\n",
    "import json\n",
    "from pathlib import Path\n",
    "from tqdm.auto import tqdm\n",
    "\n",
    "\n",
    "def build_dataset(csv_path: str, out_dir: str) -> None:\n",
    "    \"\"\"\n",
    "    Build a dataset directory from a CSV.  The CSV must contain\n",
    "    columns `image_path`, `lat`, and `lon`.  Images referenced in\n",
    "    `image_path` are copied (or hard-linked) into `out_dir/images` and\n",
    "    a JSON file `exif_data.json` is generated in `out_dir`.\n",
    "\n",
    "    Example usage::\n",
    "\n",
    "        build_dataset('data_msk/frames.csv', 'data')\n",
    "    \"\"\"\n",
    "    out_dir = Path(out_dir)\n",
    "    img_dir = out_dir / 'images'\n",
    "    img_dir.mkdir(parents=True, exist_ok=True)\n",
    "    df = pd.read_csv(csv_path)\n",
    "    required = {\"image_path\", \"lat\", \"lon\"}\n",
    "    if not required.issubset(df.columns):\n",
    "        raise ValueError(f\"CSV must contain columns {required}\")\n",
    "    records = []\n",
    "    for _, row in tqdm(df.iterrows(), total=len(df), desc='copy images'):\n",
    "        src = Path(str(row['image_path']))\n",
    "        if not src.exists():\n",
    "            print(f'[warn] missing: {src}')\n",
    "            continue\n",
    "        # unique filename to avoid collisions\n",
    "        unique_name = f\"{src.stem}_{abs(hash(str(src))) % 10**8}{src.suffix.lower()}\"\n",
    "        dst = img_dir / unique_name\n",
    "        try:\n",
    "            # try hardlink first\n",
    "            try:\n",
    "                dst.hardlink_to(src)\n",
    "            except Exception:\n",
    "                shutil.copy2(src, dst)\n",
    "        except Exception as e:\n",
    "            print(f'[copy] {src} -> {dst} fail: {e}')\n",
    "            continue\n",
    "        records.append({\n",
    "            'filename': unique_name,\n",
    "            'gps_latitude': float(row['lat']),\n",
    "            'gps_longitude': float(row['lon']),\n",
    "        })\n",
    "    # write JSON and dummy CSV for compatibility\n",
    "    (out_dir / 'exif_data.json').write_text(json.dumps(records, ensure_ascii=False, indent=2))\n",
    "    (out_dir / 'location_data.csv').write_text('filename,lat,lon')\n",
    "    print(f'[ok] Dataset ready in {out_dir}')\n",
    "\n",
    "build_dataset('/tmp/geo/frames.csv', '/tmp/data/')"
   ]
  },
  {
   "cell_type": "code",
   "execution_count": 16,
   "id": "72a67d81-6385-479a-a915-373878a870fb",
   "metadata": {},
   "outputs": [
    {
     "name": "stdout",
     "output_type": "stream",
     "text": [
      "Всего записей в exif_data.json: 48812; файлов найдено: 48812\n",
      "location_data.csv создан: /tmp/data/location_data.csv (строк: 48812)\n"
     ]
    },
    {
     "data": {
      "text/html": [
       "<div>\n",
       "<style scoped>\n",
       "    .dataframe tbody tr th:only-of-type {\n",
       "        vertical-align: middle;\n",
       "    }\n",
       "\n",
       "    .dataframe tbody tr th {\n",
       "        vertical-align: top;\n",
       "    }\n",
       "\n",
       "    .dataframe thead th {\n",
       "        text-align: right;\n",
       "    }\n",
       "</style>\n",
       "<table border=\"1\" class=\"dataframe\">\n",
       "  <thead>\n",
       "    <tr style=\"text-align: right;\">\n",
       "      <th></th>\n",
       "      <th>image_path</th>\n",
       "      <th>lat</th>\n",
       "      <th>lon</th>\n",
       "      <th>filename</th>\n",
       "    </tr>\n",
       "  </thead>\n",
       "  <tbody>\n",
       "    <tr>\n",
       "      <th>0</th>\n",
       "      <td>/tmp/data/images/b19788e8-ff7e-442a-9e3c-c9eef...</td>\n",
       "      <td>55.57043</td>\n",
       "      <td>37.94224</td>\n",
       "      <td>b19788e8-ff7e-442a-9e3c-c9eefbcb42dc_17780233.jpg</td>\n",
       "    </tr>\n",
       "    <tr>\n",
       "      <th>1</th>\n",
       "      <td>/tmp/data/images/15b8bee9-54a1-4b56-9188-cdf02...</td>\n",
       "      <td>55.97218</td>\n",
       "      <td>37.44981</td>\n",
       "      <td>15b8bee9-54a1-4b56-9188-cdf0206833f0_79548012.jpg</td>\n",
       "    </tr>\n",
       "    <tr>\n",
       "      <th>2</th>\n",
       "      <td>/tmp/data/images/25073a6e-d418-44b3-9d00-77db2...</td>\n",
       "      <td>55.97218</td>\n",
       "      <td>37.44981</td>\n",
       "      <td>25073a6e-d418-44b3-9d00-77db20f635b4_1991062.jpg</td>\n",
       "    </tr>\n",
       "    <tr>\n",
       "      <th>3</th>\n",
       "      <td>/tmp/data/images/086dfadf-9cf7-4e35-888b-02fb5...</td>\n",
       "      <td>55.97218</td>\n",
       "      <td>37.44981</td>\n",
       "      <td>086dfadf-9cf7-4e35-888b-02fb5a3b77c1_25008850.jpg</td>\n",
       "    </tr>\n",
       "    <tr>\n",
       "      <th>4</th>\n",
       "      <td>/tmp/data/images/f9cc04d6-ece4-4f09-bdf9-229b1...</td>\n",
       "      <td>55.97218</td>\n",
       "      <td>37.44981</td>\n",
       "      <td>f9cc04d6-ece4-4f09-bdf9-229b1f743936_12930153.jpg</td>\n",
       "    </tr>\n",
       "    <tr>\n",
       "      <th>5</th>\n",
       "      <td>/tmp/data/images/b9de70d9-2d31-4b7a-aff0-4b419...</td>\n",
       "      <td>55.97218</td>\n",
       "      <td>37.44981</td>\n",
       "      <td>b9de70d9-2d31-4b7a-aff0-4b41971de5b4_66822180.jpg</td>\n",
       "    </tr>\n",
       "    <tr>\n",
       "      <th>6</th>\n",
       "      <td>/tmp/data/images/a774322d-f93d-41d4-aa78-464ad...</td>\n",
       "      <td>55.98930</td>\n",
       "      <td>37.83598</td>\n",
       "      <td>a774322d-f93d-41d4-aa78-464add29d9f2_47845805.jpg</td>\n",
       "    </tr>\n",
       "    <tr>\n",
       "      <th>7</th>\n",
       "      <td>/tmp/data/images/cf9f1c45-2bae-4f27-9d12-6e94e...</td>\n",
       "      <td>55.83910</td>\n",
       "      <td>37.65220</td>\n",
       "      <td>cf9f1c45-2bae-4f27-9d12-6e94e0bc2268_55253170.jpg</td>\n",
       "    </tr>\n",
       "    <tr>\n",
       "      <th>8</th>\n",
       "      <td>/tmp/data/images/fa17ee7f-cc2d-474b-addd-b3497...</td>\n",
       "      <td>55.97218</td>\n",
       "      <td>37.44981</td>\n",
       "      <td>fa17ee7f-cc2d-474b-addd-b3497ea58a2d_17630126.jpg</td>\n",
       "    </tr>\n",
       "    <tr>\n",
       "      <th>9</th>\n",
       "      <td>/tmp/data/images/d397504e-a32f-4b6c-b1da-f6fec...</td>\n",
       "      <td>55.97218</td>\n",
       "      <td>37.44981</td>\n",
       "      <td>d397504e-a32f-4b6c-b1da-f6fecc1c9381_8711098.jpg</td>\n",
       "    </tr>\n",
       "  </tbody>\n",
       "</table>\n",
       "</div>"
      ],
      "text/plain": [
       "                                          image_path       lat       lon  \\\n",
       "0  /tmp/data/images/b19788e8-ff7e-442a-9e3c-c9eef...  55.57043  37.94224   \n",
       "1  /tmp/data/images/15b8bee9-54a1-4b56-9188-cdf02...  55.97218  37.44981   \n",
       "2  /tmp/data/images/25073a6e-d418-44b3-9d00-77db2...  55.97218  37.44981   \n",
       "3  /tmp/data/images/086dfadf-9cf7-4e35-888b-02fb5...  55.97218  37.44981   \n",
       "4  /tmp/data/images/f9cc04d6-ece4-4f09-bdf9-229b1...  55.97218  37.44981   \n",
       "5  /tmp/data/images/b9de70d9-2d31-4b7a-aff0-4b419...  55.97218  37.44981   \n",
       "6  /tmp/data/images/a774322d-f93d-41d4-aa78-464ad...  55.98930  37.83598   \n",
       "7  /tmp/data/images/cf9f1c45-2bae-4f27-9d12-6e94e...  55.83910  37.65220   \n",
       "8  /tmp/data/images/fa17ee7f-cc2d-474b-addd-b3497...  55.97218  37.44981   \n",
       "9  /tmp/data/images/d397504e-a32f-4b6c-b1da-f6fec...  55.97218  37.44981   \n",
       "\n",
       "                                            filename  \n",
       "0  b19788e8-ff7e-442a-9e3c-c9eefbcb42dc_17780233.jpg  \n",
       "1  15b8bee9-54a1-4b56-9188-cdf0206833f0_79548012.jpg  \n",
       "2   25073a6e-d418-44b3-9d00-77db20f635b4_1991062.jpg  \n",
       "3  086dfadf-9cf7-4e35-888b-02fb5a3b77c1_25008850.jpg  \n",
       "4  f9cc04d6-ece4-4f09-bdf9-229b1f743936_12930153.jpg  \n",
       "5  b9de70d9-2d31-4b7a-aff0-4b41971de5b4_66822180.jpg  \n",
       "6  a774322d-f93d-41d4-aa78-464add29d9f2_47845805.jpg  \n",
       "7  cf9f1c45-2bae-4f27-9d12-6e94e0bc2268_55253170.jpg  \n",
       "8  fa17ee7f-cc2d-474b-addd-b3497ea58a2d_17630126.jpg  \n",
       "9   d397504e-a32f-4b6c-b1da-f6fecc1c9381_8711098.jpg  "
      ]
     },
     "metadata": {},
     "output_type": "display_data"
    }
   ],
   "source": [
    "\n",
    "DATA_DIR = Path(\"/tmp/data\")\n",
    "EXIF_JSON = DATA_DIR / \"exif_data.json\"\n",
    "IM_DIR = DATA_DIR / \"images\"\n",
    "OUT_CSV = DATA_DIR / \"location_data.csv\"\n",
    "\n",
    "# 1) прочитать json\n",
    "if not EXIF_JSON.exists():\n",
    "    raise FileNotFoundError(f\"{EXIF_JSON} not found. Создайте exif_data.json сначала.\")\n",
    "items = json.loads(EXIF_JSON.read_text(encoding=\"utf-8\"))\n",
    "\n",
    "# 2) собрать dataframe\n",
    "rows = []\n",
    "for it in items:\n",
    "    fn = it.get(\"filename\")\n",
    "    lat = it.get(\"gps_latitude\") or it.get(\"lat\") or it.get(\"latitude\")\n",
    "    lon = it.get(\"gps_longitude\") or it.get(\"lon\") or it.get(\"longitude\")\n",
    "    path = IM_DIR / fn\n",
    "    rows.append({\"filename\": fn, \"image_path\": str(path), \"lat\": lat, \"lon\": lon})\n",
    "\n",
    "df = pd.DataFrame(rows)\n",
    "\n",
    "# 3) аналитика / проверки\n",
    "df['file_exists'] = df['image_path'].map(lambda p: Path(p).exists())\n",
    "num_exist = int(df['file_exists'].sum())\n",
    "print(f\"Всего записей в exif_data.json: {len(df)}; файлов найдено: {num_exist}\")\n",
    "\n",
    "# 4) сохранить CSV (убираем несуществующие, если нужно - включите keep_all=True)\n",
    "keep_all = False\n",
    "if not keep_all:\n",
    "    df = df[df['file_exists']].copy()\n",
    "df = df[['image_path','lat','lon','filename']]\n",
    "df.to_csv(OUT_CSV, index=False)\n",
    "print(f\"location_data.csv создан: {OUT_CSV} (строк: {len(df)})\")\n",
    "\n",
    "# 5) краткий вывод несколько строк\n",
    "display(df.head(10))"
   ]
  },
  {
   "cell_type": "code",
   "execution_count": 22,
   "id": "a7367b66-5f42-4d00-b0ae-bc4995ca020f",
   "metadata": {},
   "outputs": [],
   "source": [
    "\n",
    "# == Training GPS regression model ==\n",
    "# This cell defines a lightweight GPS regression model based on\n",
    "# EfficientNet-B0 and provides a function to train it on a custom\n",
    "# dataset.  The function computes latitude/longitude bounds from the\n",
    "# dataset, splits it into training/validation sets, and logs the\n",
    "# training progress.  It saves checkpoints in the specified\n",
    "# output directory.\n",
    "\n",
    "import math\n",
    "import time\n",
    "import json\n",
    "import numpy as np\n",
    "from pathlib import Path\n",
    "from PIL import Image\n",
    "from tqdm.auto import tqdm\n",
    "\n",
    "import torch\n",
    "import torch.nn as nn\n",
    "import torch.nn.functional as F\n",
    "from torch.utils.data import Dataset, DataLoader, random_split\n",
    "from torch.cuda.amp import autocast, GradScaler\n",
    "from torch.utils.tensorboard import SummaryWriter\n",
    "from torchvision import transforms, models\n",
    "from torchvision.models import EfficientNet_B0_Weights\n",
    "\n",
    "# Utility to compute bounds from exif_data.json\n",
    "def compute_bounds_from_json(json_path: str, pad: float = 0.05):\n",
    "    data = json.loads(Path(json_path).read_text())\n",
    "    lats = [d['gps_latitude'] for d in data]\n",
    "    lons = [d['gps_longitude'] for d in data]\n",
    "    lat_min, lat_max = float(np.min(lats)), float(np.max(lats))\n",
    "    lon_min, lon_max = float(np.min(lons)), float(np.max(lons))\n",
    "    dlat = (lat_max - lat_min) * pad\n",
    "    dlon = (lon_max - lon_min) * pad\n",
    "    return lat_min - dlat, lat_max + dlat, lon_min - dlon, lon_max + dlon\n",
    "\n",
    "# Dataset class\n",
    "def make_dataset(data_dir: str, img_size: int, train: bool, bounds: tuple):\n",
    "    \"\"\"Return a PyTorch dataset for GPS regression.\"\"\"\n",
    "    image_dir = Path(data_dir) / 'images'\n",
    "    json_path = Path(data_dir) / 'exif_data.json'\n",
    "    items = json.loads(Path(json_path).read_text())\n",
    "    samples = []\n",
    "    for d in items:\n",
    "        p = image_dir / d['filename']\n",
    "        if p.exists():\n",
    "            samples.append((str(p), float(d['gps_latitude']), float(d['gps_longitude'])))\n",
    "    LAT_MIN, LAT_MAX, LON_MIN, LON_MAX = bounds\n",
    "    if train:\n",
    "        tf = transforms.Compose([\n",
    "            transforms.Resize((img_size + 32, img_size + 32)),\n",
    "            transforms.RandomCrop((img_size, img_size)),\n",
    "            transforms.RandomHorizontalFlip(0.5),\n",
    "            transforms.ColorJitter(0.2, 0.2, 0.2, 0.05),\n",
    "            transforms.ToTensor(),\n",
    "            transforms.Normalize([0.485, 0.456, 0.406], [0.229, 0.224, 0.225]),\n",
    "        ])\n",
    "    else:\n",
    "        tf = transforms.Compose([\n",
    "            transforms.Resize((img_size, img_size)),\n",
    "            transforms.ToTensor(),\n",
    "            transforms.Normalize([0.485, 0.456, 0.406], [0.229, 0.224, 0.225]),\n",
    "        ])\n",
    "\n",
    "    class DS(Dataset):\n",
    "        def __len__(self):\n",
    "            return len(samples)\n",
    "        def __getitem__(self, idx):\n",
    "            path, lat, lon = samples[idx]\n",
    "            img = Image.open(path).convert('RGB')\n",
    "            x = tf(img)\n",
    "            # normalize lat/lon to [-1,1]\n",
    "            nlat = 2.0 * (lat - LAT_MIN) / (LAT_MAX - LAT_MIN) - 1.0\n",
    "            nlon = 2.0 * (lon - LON_MIN) / (LON_MAX - LON_MIN) - 1.0\n",
    "            return x, torch.tensor([nlat, nlon], dtype=torch.float32), torch.tensor([lat, lon], dtype=torch.float32), path\n",
    "    return DS()\n",
    "\n",
    "# Model definition\n",
    "class SimpleGPSNet(nn.Module):\n",
    "    def __init__(self):\n",
    "        super().__init__()\n",
    "        eff = models.efficientnet_b0(weights=EfficientNet_B0_Weights.IMAGENET1K_V1)\n",
    "        in_features = eff.classifier[1].in_features\n",
    "        eff.classifier = nn.Identity()\n",
    "        self.backbone = eff\n",
    "        self.head = nn.Sequential(\n",
    "            nn.Linear(in_features, 512), nn.ReLU(inplace=True), nn.Dropout(0.25),\n",
    "            nn.Linear(512, 128), nn.ReLU(inplace=True), nn.Linear(128, 2), nn.Tanh(),\n",
    "        )\n",
    "    def forward(self, x):\n",
    "        f = self.backbone(x)\n",
    "        return self.head(f)\n",
    "\n",
    "# Loss function\n",
    "class CoordMetersLoss(nn.Module):\n",
    "    def __init__(self, lat0_rad):\n",
    "        super().__init__()\n",
    "        self.lat0_rad = lat0_rad\n",
    "    def forward(self, pred_norm, targ_norm, bounds):\n",
    "        LAT_MIN, LAT_MAX, LON_MIN, LON_MAX = bounds\n",
    "        pred_lat = (pred_norm[:, 0] + 1) / 2 * (LAT_MAX - LAT_MIN) + LAT_MIN\n",
    "        pred_lon = (pred_norm[:, 1] + 1) / 2 * (LON_MAX - LON_MIN) + LON_MIN\n",
    "        targ_lat = (targ_norm[:, 0] + 1) / 2 * (LAT_MAX - LAT_MIN) + LAT_MIN\n",
    "        targ_lon = (targ_norm[:, 1] + 1) / 2 * (LON_MAX - LON_MIN) + LON_MIN\n",
    "        dlat = torch.abs(pred_lat - targ_lat) * 111_000.0\n",
    "        dlon = torch.abs(pred_lon - targ_lon) * (111_000.0 * math.cos(self.lat0_rad))\n",
    "        dist = torch.sqrt(dlat * dlat + dlon * dlon + 1e-9)\n",
    "        return dist.mean()\n",
    "\n",
    "# Training wrapper\n",
    "\n",
    "\n",
    "def auto_num_workers(fraction=0.75):\n",
    "    # 75% от доступных CPU — обычно оптимально\n",
    "    try:\n",
    "        ncpu = os.cpu_count() or 8\n",
    "        return max(4, int(ncpu * fraction))\n",
    "    except Exception:\n",
    "        return 8\n",
    "\n",
    "def load_checkpoint(path: Path, device):\n",
    "    ckpt = torch.load(str(path), map_location=device)\n",
    "    print(f\"[ckpt] loaded {path} (epoch {ckpt.get('epoch')}, best {ckpt.get('best_val')})\")\n",
    "    return ckpt\n",
    "\n",
    "def train_model(data_dir: str, out_dir: str, epochs: int = 30, bs: int = 32, img_size: int = 256, lr: float = 1e-4, val_split: float = 0.15, resume_from=True):\n",
    "    \"\"\"\n",
    "    Train the SimpleGPSNet model on a prepared dataset.  Data must be\n",
    "    created with build_dataset() and placed in `data_dir`.  Outputs\n",
    "    checkpoints and TensorBoard logs to `out_dir`.\n",
    "    \"\"\"\n",
    "    data_dir = Path(data_dir)\n",
    "    bounds = compute_bounds_from_json(data_dir / 'exif_data.json', pad=0.05)\n",
    "    LAT_MIN, LAT_MAX, LON_MIN, LON_MAX = bounds\n",
    "    full_ds = make_dataset(data_dir, img_size, train=True, bounds=bounds)\n",
    "    n = len(full_ds)\n",
    "    n_val = max(1, int(n * val_split))\n",
    "    n_tr = n - n_val\n",
    "    tr_ds, va_ds = random_split(full_ds, [n_tr, n_val])\n",
    "    # set evaluation mode for val dataset\n",
    "    va_ds.dataset.train = False  # type: ignore\n",
    "    NUM_WORKERS = auto_num_workers()\n",
    "    PREFETCH = 4  # можно 6–8 при скоростном NVMe\n",
    "    PIN = True\n",
    "    tr_dl = DataLoader(tr_ds, batch_size=bs, shuffle=True, num_workers=NUM_WORKERS, pin_memory=PIN, persistent_workers=True, prefetch_factor=PREFETCH)\n",
    "    va_dl = DataLoader(va_ds, batch_size=bs, shuffle=False, num_workers=max(2, NUM_WORKERS//2), pin_memory=PIN, persistent_workers=True, prefetch_factor=PREFETCH)\n",
    "    device = torch.device('cuda' if torch.cuda.is_available() else 'cpu')\n",
    "    model = SimpleGPSNet().to(device)\n",
    "    opt = torch.optim.AdamW(model.parameters(), lr=lr, weight_decay=1e-4)\n",
    "    scaler = GradScaler(enabled=torch.cuda.is_available())\n",
    "    loss_fn = CoordMetersLoss(lat0_rad=math.radians(0.5 * (LAT_MIN + LAT_MAX)))\n",
    "    out_dir = Path(out_dir)\n",
    "    out_dir.mkdir(parents=True, exist_ok=True)\n",
    "    last_path = out_dir / 'last.pth'\n",
    "    best_path = out_dir / 'best.pth'\n",
    "\n",
    "    if resume_from:\n",
    "        ckpt_path = Path(last_path)\n",
    "        if ckpt_path.exists():\n",
    "            ckpt = load_checkpoint(ckpt_path, device=device)\n",
    "            # load model weights\n",
    "            try:\n",
    "                model.load_state_dict(ckpt['model'])\n",
    "            except Exception as e:\n",
    "                print(\"[ckpt] strict load failed, trying non-strict:\", e)\n",
    "                model.load_state_dict(ckpt['model'], strict=False)\n",
    "            # optional load optimizer / scaler / epoch / best / bad\n",
    "            if 'optimizer' in ckpt:\n",
    "                try:\n",
    "                    opt.load_state_dict(ckpt['optimizer'])\n",
    "                    print(\"[ckpt] optimizer state loaded\")\n",
    "                except Exception as e:\n",
    "                    print(\"[ckpt] optimizer load failed:\", e)\n",
    "            if 'scaler' in ckpt and isinstance(scaler, GradScaler):\n",
    "                try:\n",
    "                    scaler.load_state_dict(ckpt['scaler'])\n",
    "                    print(\"[ckpt] scaler state loaded\")\n",
    "                except Exception as e:\n",
    "                    print(\"[ckpt] scaler load failed:\", e)\n",
    "            start_epoch = ckpt.get('epoch', 0) + 1\n",
    "            best = ckpt.get('best_val', best)\n",
    "            bad = ckpt.get('bad', 0)\n",
    "            print(f\"[ckpt] resume from epoch {start_epoch}, best_val {best}, bad={bad}\")\n",
    "        else:\n",
    "            print(\"[ckpt] resume path not found:\", ckpt_path)\n",
    "    writer = SummaryWriter(log_dir=str(out_dir / 'tb'))\n",
    "    best = float('inf')\n",
    "    best_path = out_dir / 'best.pth'\n",
    "    last_path = out_dir / 'last.pth'\n",
    "    patience = 8\n",
    "    bad = 0\n",
    "    for epoch in range(epochs):\n",
    "        model.train()\n",
    "        tot_tr, n_tr_samples = 0.0, 0\n",
    "        for xb, y_norm, _, _ in tqdm(tr_dl, desc=f'train epoch {epoch}'):\n",
    "            xb = xb.to(device, non_blocking=True)\n",
    "            y_norm = y_norm.to(device, non_blocking=True)\n",
    "            opt.zero_grad(set_to_none=True)\n",
    "            with autocast(enabled=torch.cuda.is_available()):\n",
    "                yp = model(xb)\n",
    "                loss = loss_fn(yp, y_norm, bounds)\n",
    "            scaler.scale(loss).backward()\n",
    "            scaler.step(opt)\n",
    "            scaler.update()\n",
    "            bs_ = xb.size(0)\n",
    "            tot_tr += loss.item() * bs_\n",
    "            n_tr_samples += bs_\n",
    "        tr_loss = tot_tr / max(1, n_tr_samples)\n",
    "        # validation\n",
    "        model.eval()\n",
    "        tot_va, n_va_samples = 0.0, 0\n",
    "        with torch.no_grad():\n",
    "            for xb, y_norm, _, _ in va_dl:\n",
    "                xb = xb.to(device, non_blocking=True)\n",
    "                y_norm = y_norm.to(device, non_blocking=True)\n",
    "                yp = model(xb)\n",
    "                loss = loss_fn(yp, y_norm, bounds).item()\n",
    "                bs_ = xb.size(0)\n",
    "                tot_va += loss * bs_\n",
    "                n_va_samples += bs_\n",
    "        va_loss = tot_va / max(1, n_va_samples)\n",
    "        writer.add_scalars('loss', {'train_m': tr_loss, 'val_m': va_loss}, epoch)\n",
    "        print(f'epoch {epoch:03d}: train {tr_loss:.2f} m | val {va_loss:.2f} m')\n",
    "        torch.save({'model': model.state_dict(), 'bounds': bounds}, last_path)\n",
    "        if va_loss < best:\n",
    "            best = va_loss\n",
    "            bad = 0\n",
    "            torch.save({'model': model.state_dict(), 'bounds': bounds}, best_path)\n",
    "        else:\n",
    "            bad += 1\n",
    "            if bad >= patience:\n",
    "                print('Early stopping')\n",
    "                break\n",
    "    writer.close()\n",
    "    print(f'Training finished. Best validation error: {best:.2f} m. Model saved to {best_path}')\n"
   ]
  },
  {
   "cell_type": "code",
   "execution_count": 21,
   "id": "1f289af3-d620-402f-a621-bac1ce89e126",
   "metadata": {},
   "outputs": [],
   "source": [
    "os.environ.setdefault(\"PYTORCH_CUDA_ALLOC_CONF\", \"max_split_size_mb:512,garbage_collection_threshold:0.9\")\n",
    "\n",
    "# TF32 ускоряет свертки/матмул на Ampere (A100) при сохранении адекватной точности\n",
    "torch.backends.cuda.matmul.allow_tf32 = True\n",
    "torch.backends.cudnn.allow_tf32 = True\n",
    "\n",
    "# Включаем cudnn autotune\n",
    "torch.backends.cudnn.benchmark = True\n",
    "\n",
    "# Предпочитаем BF16 на A100 (более стабильный, чем FP16)\n",
    "USE_BF16 = torch.cuda.is_bf16_supported()\n",
    "AMP_DTYPE = torch.bfloat16 if USE_BF16 else torch.float16\n",
    "\n",
    "try:\n",
    "    # PyTorch 2.x: чуть более агрессивная математика FP32\n",
    "    torch.set_float32_matmul_precision(\"high\")\n",
    "except Exception:\n",
    "    pass"
   ]
  },
  {
   "cell_type": "code",
   "execution_count": 23,
   "id": "a80ae818-1627-4d52-b998-3b5d12c6491c",
   "metadata": {},
   "outputs": [
    {
     "name": "stdout",
     "output_type": "stream",
     "text": [
      "Downloading: \"https://download.pytorch.org/models/efficientnet_b0_rwightman-7f5810bc.pth\" to /root/.cache/torch/hub/checkpoints/efficientnet_b0_rwightman-7f5810bc.pth\n"
     ]
    },
    {
     "name": "stderr",
     "output_type": "stream",
     "text": [
      "100%|██████████| 20.5M/20.5M [00:00<00:00, 150MB/s]\n",
      "/tmp/ipykernel_4481/225711095.py:146: FutureWarning: `torch.cuda.amp.GradScaler(args...)` is deprecated. Please use `torch.amp.GradScaler('cuda', args...)` instead.\n",
      "  scaler = GradScaler(enabled=torch.cuda.is_available())\n"
     ]
    },
    {
     "data": {
      "application/vnd.jupyter.widget-view+json": {
       "model_id": "1e0b88968fa542a4a122077523a6d82b",
       "version_major": 2,
       "version_minor": 0
      },
      "text/plain": [
       "train epoch 0:   0%|          | 0/1297 [00:04<?, ?it/s]"
      ]
     },
     "metadata": {},
     "output_type": "display_data"
    },
    {
     "name": "stderr",
     "output_type": "stream",
     "text": [
      "/tmp/ipykernel_4481/225711095.py:163: FutureWarning: `torch.cuda.amp.autocast(args...)` is deprecated. Please use `torch.amp.autocast('cuda', args...)` instead.\n",
      "  with autocast(enabled=torch.cuda.is_available()):\n"
     ]
    },
    {
     "name": "stdout",
     "output_type": "stream",
     "text": [
      "epoch 000: train 11774.93 m | val 11134.12 m\n"
     ]
    },
    {
     "data": {
      "application/vnd.jupyter.widget-view+json": {
       "model_id": "cae4a2d79d5f46cabbd11f2f8d72c473",
       "version_major": 2,
       "version_minor": 0
      },
      "text/plain": [
       "train epoch 1:   0%|          | 0/1297 [00:00<?, ?it/s]"
      ]
     },
     "metadata": {},
     "output_type": "display_data"
    },
    {
     "name": "stdout",
     "output_type": "stream",
     "text": [
      "epoch 001: train 10874.41 m | val 10645.28 m\n"
     ]
    },
    {
     "data": {
      "application/vnd.jupyter.widget-view+json": {
       "model_id": "ed2a584b012e4d738f30820f58aca211",
       "version_major": 2,
       "version_minor": 0
      },
      "text/plain": [
       "train epoch 2:   0%|          | 0/1297 [00:00<?, ?it/s]"
      ]
     },
     "metadata": {},
     "output_type": "display_data"
    },
    {
     "name": "stdout",
     "output_type": "stream",
     "text": [
      "epoch 002: train 10296.87 m | val 10371.72 m\n"
     ]
    },
    {
     "data": {
      "application/vnd.jupyter.widget-view+json": {
       "model_id": "19b25179995147bc8211cdd9a8bf6a4c",
       "version_major": 2,
       "version_minor": 0
      },
      "text/plain": [
       "train epoch 3:   0%|          | 0/1297 [00:00<?, ?it/s]"
      ]
     },
     "metadata": {},
     "output_type": "display_data"
    },
    {
     "name": "stdout",
     "output_type": "stream",
     "text": [
      "epoch 003: train 9814.70 m | val 10198.58 m\n"
     ]
    },
    {
     "data": {
      "application/vnd.jupyter.widget-view+json": {
       "model_id": "817bfd9bd3a2496a93ea34f484ad5c29",
       "version_major": 2,
       "version_minor": 0
      },
      "text/plain": [
       "train epoch 4:   0%|          | 0/1297 [00:00<?, ?it/s]"
      ]
     },
     "metadata": {},
     "output_type": "display_data"
    },
    {
     "name": "stdout",
     "output_type": "stream",
     "text": [
      "epoch 004: train 9350.72 m | val 9991.67 m\n"
     ]
    },
    {
     "data": {
      "application/vnd.jupyter.widget-view+json": {
       "model_id": "56e1ce3a0d58464a9006cc6941cec1bb",
       "version_major": 2,
       "version_minor": 0
      },
      "text/plain": [
       "train epoch 5:   0%|          | 0/1297 [00:00<?, ?it/s]"
      ]
     },
     "metadata": {},
     "output_type": "display_data"
    },
    {
     "name": "stdout",
     "output_type": "stream",
     "text": [
      "epoch 005: train 8953.43 m | val 9933.17 m\n"
     ]
    },
    {
     "data": {
      "application/vnd.jupyter.widget-view+json": {
       "model_id": "74e4fb56209e44ac99e04a4f2bbe8633",
       "version_major": 2,
       "version_minor": 0
      },
      "text/plain": [
       "train epoch 6:   0%|          | 0/1297 [00:00<?, ?it/s]"
      ]
     },
     "metadata": {},
     "output_type": "display_data"
    },
    {
     "name": "stdout",
     "output_type": "stream",
     "text": [
      "epoch 006: train 8568.00 m | val 9863.75 m\n"
     ]
    },
    {
     "data": {
      "application/vnd.jupyter.widget-view+json": {
       "model_id": "92318b24b8a741c8880dddc6cffb1ac7",
       "version_major": 2,
       "version_minor": 0
      },
      "text/plain": [
       "train epoch 7:   0%|          | 0/1297 [00:00<?, ?it/s]"
      ]
     },
     "metadata": {},
     "output_type": "display_data"
    },
    {
     "name": "stdout",
     "output_type": "stream",
     "text": [
      "epoch 007: train 8222.07 m | val 10028.35 m\n"
     ]
    },
    {
     "data": {
      "application/vnd.jupyter.widget-view+json": {
       "model_id": "90c711bd23c64f038ceb7472063e487f",
       "version_major": 2,
       "version_minor": 0
      },
      "text/plain": [
       "train epoch 8:   0%|          | 0/1297 [00:00<?, ?it/s]"
      ]
     },
     "metadata": {},
     "output_type": "display_data"
    },
    {
     "name": "stdout",
     "output_type": "stream",
     "text": [
      "epoch 008: train 7896.11 m | val 9710.22 m\n"
     ]
    },
    {
     "data": {
      "application/vnd.jupyter.widget-view+json": {
       "model_id": "f806c46805024ba9848b81a45a2ff7eb",
       "version_major": 2,
       "version_minor": 0
      },
      "text/plain": [
       "train epoch 9:   0%|          | 0/1297 [00:00<?, ?it/s]"
      ]
     },
     "metadata": {},
     "output_type": "display_data"
    },
    {
     "name": "stdout",
     "output_type": "stream",
     "text": [
      "epoch 009: train 7583.54 m | val 9654.93 m\n"
     ]
    },
    {
     "data": {
      "application/vnd.jupyter.widget-view+json": {
       "model_id": "6d79f22610ee4b92958ca1df961bc773",
       "version_major": 2,
       "version_minor": 0
      },
      "text/plain": [
       "train epoch 10:   0%|          | 0/1297 [00:00<?, ?it/s]"
      ]
     },
     "metadata": {},
     "output_type": "display_data"
    },
    {
     "name": "stdout",
     "output_type": "stream",
     "text": [
      "epoch 010: train 7339.57 m | val 9692.60 m\n"
     ]
    },
    {
     "data": {
      "application/vnd.jupyter.widget-view+json": {
       "model_id": "900f80757da24ed1aaacc82b6c8cb412",
       "version_major": 2,
       "version_minor": 0
      },
      "text/plain": [
       "train epoch 11:   0%|          | 0/1297 [00:00<?, ?it/s]"
      ]
     },
     "metadata": {},
     "output_type": "display_data"
    },
    {
     "name": "stdout",
     "output_type": "stream",
     "text": [
      "epoch 011: train 7084.85 m | val 9609.36 m\n"
     ]
    },
    {
     "data": {
      "application/vnd.jupyter.widget-view+json": {
       "model_id": "df5550335b6e468fb68f33a0f01fa788",
       "version_major": 2,
       "version_minor": 0
      },
      "text/plain": [
       "train epoch 12:   0%|          | 0/1297 [00:00<?, ?it/s]"
      ]
     },
     "metadata": {},
     "output_type": "display_data"
    },
    {
     "name": "stdout",
     "output_type": "stream",
     "text": [
      "epoch 012: train 6850.53 m | val 9687.81 m\n"
     ]
    },
    {
     "data": {
      "application/vnd.jupyter.widget-view+json": {
       "model_id": "a332a3a6f9264ca48d88a895aef0a893",
       "version_major": 2,
       "version_minor": 0
      },
      "text/plain": [
       "train epoch 13:   0%|          | 0/1297 [00:00<?, ?it/s]"
      ]
     },
     "metadata": {},
     "output_type": "display_data"
    },
    {
     "name": "stdout",
     "output_type": "stream",
     "text": [
      "epoch 013: train 6613.46 m | val 9616.84 m\n"
     ]
    },
    {
     "data": {
      "application/vnd.jupyter.widget-view+json": {
       "model_id": "c02da96cd8d044fca3d8b0370ef8aa3f",
       "version_major": 2,
       "version_minor": 0
      },
      "text/plain": [
       "train epoch 14:   0%|          | 0/1297 [00:00<?, ?it/s]"
      ]
     },
     "metadata": {},
     "output_type": "display_data"
    },
    {
     "name": "stdout",
     "output_type": "stream",
     "text": [
      "epoch 014: train 6401.81 m | val 9418.63 m\n"
     ]
    },
    {
     "data": {
      "application/vnd.jupyter.widget-view+json": {
       "model_id": "55cd6d2fca3d44fbafb9599e2b70bd01",
       "version_major": 2,
       "version_minor": 0
      },
      "text/plain": [
       "train epoch 15:   0%|          | 0/1297 [00:00<?, ?it/s]"
      ]
     },
     "metadata": {},
     "output_type": "display_data"
    },
    {
     "name": "stdout",
     "output_type": "stream",
     "text": [
      "epoch 015: train 6251.25 m | val 9596.27 m\n"
     ]
    },
    {
     "data": {
      "application/vnd.jupyter.widget-view+json": {
       "model_id": "ad9218310b664b268217bad689ac5933",
       "version_major": 2,
       "version_minor": 0
      },
      "text/plain": [
       "train epoch 16:   0%|          | 0/1297 [00:00<?, ?it/s]"
      ]
     },
     "metadata": {},
     "output_type": "display_data"
    },
    {
     "name": "stdout",
     "output_type": "stream",
     "text": [
      "epoch 016: train 6042.82 m | val 9472.14 m\n"
     ]
    },
    {
     "data": {
      "application/vnd.jupyter.widget-view+json": {
       "model_id": "f195159483354b57a1cf4289095023fc",
       "version_major": 2,
       "version_minor": 0
      },
      "text/plain": [
       "train epoch 17:   0%|          | 0/1297 [00:00<?, ?it/s]"
      ]
     },
     "metadata": {},
     "output_type": "display_data"
    },
    {
     "name": "stdout",
     "output_type": "stream",
     "text": [
      "epoch 017: train 5913.96 m | val 9560.82 m\n"
     ]
    },
    {
     "data": {
      "application/vnd.jupyter.widget-view+json": {
       "model_id": "f490ae8efd034d7fb5c7873b36aa28ae",
       "version_major": 2,
       "version_minor": 0
      },
      "text/plain": [
       "train epoch 18:   0%|          | 0/1297 [00:00<?, ?it/s]"
      ]
     },
     "metadata": {},
     "output_type": "display_data"
    },
    {
     "name": "stdout",
     "output_type": "stream",
     "text": [
      "epoch 018: train 5747.81 m | val 9318.54 m\n"
     ]
    },
    {
     "data": {
      "application/vnd.jupyter.widget-view+json": {
       "model_id": "0a466beb28dd4261a67d9da634de3094",
       "version_major": 2,
       "version_minor": 0
      },
      "text/plain": [
       "train epoch 19:   0%|          | 0/1297 [00:00<?, ?it/s]"
      ]
     },
     "metadata": {},
     "output_type": "display_data"
    },
    {
     "name": "stdout",
     "output_type": "stream",
     "text": [
      "epoch 019: train 5613.35 m | val 9423.65 m\n"
     ]
    },
    {
     "data": {
      "application/vnd.jupyter.widget-view+json": {
       "model_id": "4549da91cbdf442597a21094197ef542",
       "version_major": 2,
       "version_minor": 0
      },
      "text/plain": [
       "train epoch 20:   0%|          | 0/1297 [00:00<?, ?it/s]"
      ]
     },
     "metadata": {},
     "output_type": "display_data"
    },
    {
     "name": "stdout",
     "output_type": "stream",
     "text": [
      "epoch 020: train 5489.97 m | val 9451.80 m\n"
     ]
    },
    {
     "data": {
      "application/vnd.jupyter.widget-view+json": {
       "model_id": "74f80f62f59346ab9ec5233e0d92fb01",
       "version_major": 2,
       "version_minor": 0
      },
      "text/plain": [
       "train epoch 21:   0%|          | 0/1297 [00:00<?, ?it/s]"
      ]
     },
     "metadata": {},
     "output_type": "display_data"
    },
    {
     "name": "stdout",
     "output_type": "stream",
     "text": [
      "epoch 021: train 5327.41 m | val 9327.00 m\n"
     ]
    },
    {
     "data": {
      "application/vnd.jupyter.widget-view+json": {
       "model_id": "7e8922b2b67d4ffca0f7c7034253b208",
       "version_major": 2,
       "version_minor": 0
      },
      "text/plain": [
       "train epoch 22:   0%|          | 0/1297 [00:00<?, ?it/s]"
      ]
     },
     "metadata": {},
     "output_type": "display_data"
    },
    {
     "name": "stdout",
     "output_type": "stream",
     "text": [
      "epoch 022: train 5229.26 m | val 9281.68 m\n"
     ]
    },
    {
     "data": {
      "application/vnd.jupyter.widget-view+json": {
       "model_id": "94ec2b89df5f42449255764874e808c7",
       "version_major": 2,
       "version_minor": 0
      },
      "text/plain": [
       "train epoch 23:   0%|          | 0/1297 [00:00<?, ?it/s]"
      ]
     },
     "metadata": {},
     "output_type": "display_data"
    },
    {
     "name": "stdout",
     "output_type": "stream",
     "text": [
      "epoch 023: train 5127.25 m | val 9439.34 m\n"
     ]
    },
    {
     "data": {
      "application/vnd.jupyter.widget-view+json": {
       "model_id": "cc23ba2a573642a78cf492fc40b94c62",
       "version_major": 2,
       "version_minor": 0
      },
      "text/plain": [
       "train epoch 24:   0%|          | 0/1297 [00:00<?, ?it/s]"
      ]
     },
     "metadata": {},
     "output_type": "display_data"
    },
    {
     "name": "stdout",
     "output_type": "stream",
     "text": [
      "epoch 024: train 5033.81 m | val 9290.78 m\n"
     ]
    },
    {
     "data": {
      "application/vnd.jupyter.widget-view+json": {
       "model_id": "8bc7e8abd66c476ba4e08e76d71a4b34",
       "version_major": 2,
       "version_minor": 0
      },
      "text/plain": [
       "train epoch 25:   0%|          | 0/1297 [00:00<?, ?it/s]"
      ]
     },
     "metadata": {},
     "output_type": "display_data"
    },
    {
     "name": "stdout",
     "output_type": "stream",
     "text": [
      "epoch 025: train 4927.66 m | val 9175.07 m\n"
     ]
    },
    {
     "data": {
      "application/vnd.jupyter.widget-view+json": {
       "model_id": "3964c99486a949eca718d26e38f2c035",
       "version_major": 2,
       "version_minor": 0
      },
      "text/plain": [
       "train epoch 26:   0%|          | 0/1297 [00:00<?, ?it/s]"
      ]
     },
     "metadata": {},
     "output_type": "display_data"
    },
    {
     "name": "stdout",
     "output_type": "stream",
     "text": [
      "epoch 026: train 4833.09 m | val 9312.47 m\n"
     ]
    },
    {
     "data": {
      "application/vnd.jupyter.widget-view+json": {
       "model_id": "b6d8de21f34f4b059ed4b1e5e49a966e",
       "version_major": 2,
       "version_minor": 0
      },
      "text/plain": [
       "train epoch 27:   0%|          | 0/1297 [00:00<?, ?it/s]"
      ]
     },
     "metadata": {},
     "output_type": "display_data"
    },
    {
     "name": "stdout",
     "output_type": "stream",
     "text": [
      "epoch 027: train 4756.18 m | val 9260.32 m\n"
     ]
    },
    {
     "data": {
      "application/vnd.jupyter.widget-view+json": {
       "model_id": "a7f9740f74244fd69fa44e7a02d6ee05",
       "version_major": 2,
       "version_minor": 0
      },
      "text/plain": [
       "train epoch 28:   0%|          | 0/1297 [00:00<?, ?it/s]"
      ]
     },
     "metadata": {},
     "output_type": "display_data"
    },
    {
     "ename": "KeyboardInterrupt",
     "evalue": "",
     "output_type": "error",
     "traceback": [
      "\u001b[31m---------------------------------------------------------------------------\u001b[39m",
      "\u001b[31mKeyboardInterrupt\u001b[39m                         Traceback (most recent call last)",
      "\u001b[36mCell\u001b[39m\u001b[36m \u001b[39m\u001b[32mIn[23]\u001b[39m\u001b[32m, line 1\u001b[39m\n\u001b[32m----> \u001b[39m\u001b[32m1\u001b[39m \u001b[43mtrain_model\u001b[49m\u001b[43m(\u001b[49m\u001b[33;43m'\u001b[39;49m\u001b[33;43m/tmp/data\u001b[39;49m\u001b[33;43m'\u001b[39;49m\u001b[43m,\u001b[49m\u001b[43m \u001b[49m\u001b[33;43m'\u001b[39;49m\u001b[33;43mruns/msk_high\u001b[39;49m\u001b[33;43m'\u001b[39;49m\u001b[43m,\u001b[49m\u001b[43m \u001b[49m\u001b[43mepochs\u001b[49m\u001b[43m=\u001b[49m\u001b[32;43m30\u001b[39;49m\u001b[43m)\u001b[49m\n",
      "\u001b[36mCell\u001b[39m\u001b[36m \u001b[39m\u001b[32mIn[22]\u001b[39m\u001b[32m, line 159\u001b[39m, in \u001b[36mtrain_model\u001b[39m\u001b[34m(data_dir, out_dir, epochs, bs, img_size, lr, val_split)\u001b[39m\n\u001b[32m    157\u001b[39m model.train()\n\u001b[32m    158\u001b[39m tot_tr, n_tr_samples = \u001b[32m0.0\u001b[39m, \u001b[32m0\u001b[39m\n\u001b[32m--> \u001b[39m\u001b[32m159\u001b[39m \u001b[43m\u001b[49m\u001b[38;5;28;43;01mfor\u001b[39;49;00m\u001b[43m \u001b[49m\u001b[43mxb\u001b[49m\u001b[43m,\u001b[49m\u001b[43m \u001b[49m\u001b[43my_norm\u001b[49m\u001b[43m,\u001b[49m\u001b[43m \u001b[49m\u001b[43m_\u001b[49m\u001b[43m,\u001b[49m\u001b[43m \u001b[49m\u001b[43m_\u001b[49m\u001b[43m \u001b[49m\u001b[38;5;129;43;01min\u001b[39;49;00m\u001b[43m \u001b[49m\u001b[43mtqdm\u001b[49m\u001b[43m(\u001b[49m\u001b[43mtr_dl\u001b[49m\u001b[43m,\u001b[49m\u001b[43m \u001b[49m\u001b[43mdesc\u001b[49m\u001b[43m=\u001b[49m\u001b[33;43mf\u001b[39;49m\u001b[33;43m'\u001b[39;49m\u001b[33;43mtrain epoch \u001b[39;49m\u001b[38;5;132;43;01m{\u001b[39;49;00m\u001b[43mepoch\u001b[49m\u001b[38;5;132;43;01m}\u001b[39;49;00m\u001b[33;43m'\u001b[39;49m\u001b[43m)\u001b[49m\u001b[43m:\u001b[49m\n\u001b[32m    160\u001b[39m \u001b[43m    \u001b[49m\u001b[43mxb\u001b[49m\u001b[43m \u001b[49m\u001b[43m=\u001b[49m\u001b[43m \u001b[49m\u001b[43mxb\u001b[49m\u001b[43m.\u001b[49m\u001b[43mto\u001b[49m\u001b[43m(\u001b[49m\u001b[43mdevice\u001b[49m\u001b[43m,\u001b[49m\u001b[43m \u001b[49m\u001b[43mnon_blocking\u001b[49m\u001b[43m=\u001b[49m\u001b[38;5;28;43;01mTrue\u001b[39;49;00m\u001b[43m)\u001b[49m\n\u001b[32m    161\u001b[39m \u001b[43m    \u001b[49m\u001b[43my_norm\u001b[49m\u001b[43m \u001b[49m\u001b[43m=\u001b[49m\u001b[43m \u001b[49m\u001b[43my_norm\u001b[49m\u001b[43m.\u001b[49m\u001b[43mto\u001b[49m\u001b[43m(\u001b[49m\u001b[43mdevice\u001b[49m\u001b[43m,\u001b[49m\u001b[43m \u001b[49m\u001b[43mnon_blocking\u001b[49m\u001b[43m=\u001b[49m\u001b[38;5;28;43;01mTrue\u001b[39;49;00m\u001b[43m)\u001b[49m\n",
      "\u001b[36mFile \u001b[39m\u001b[32m/venv/main/lib/python3.12/site-packages/tqdm/notebook.py:250\u001b[39m, in \u001b[36mtqdm_notebook.__iter__\u001b[39m\u001b[34m(self)\u001b[39m\n\u001b[32m    248\u001b[39m \u001b[38;5;28;01mtry\u001b[39;00m:\n\u001b[32m    249\u001b[39m     it = \u001b[38;5;28msuper\u001b[39m().\u001b[34m__iter__\u001b[39m()\n\u001b[32m--> \u001b[39m\u001b[32m250\u001b[39m \u001b[43m    \u001b[49m\u001b[38;5;28;43;01mfor\u001b[39;49;00m\u001b[43m \u001b[49m\u001b[43mobj\u001b[49m\u001b[43m \u001b[49m\u001b[38;5;129;43;01min\u001b[39;49;00m\u001b[43m \u001b[49m\u001b[43mit\u001b[49m\u001b[43m:\u001b[49m\n\u001b[32m    251\u001b[39m \u001b[43m        \u001b[49m\u001b[38;5;66;43;03m# return super(tqdm...) will not catch exception\u001b[39;49;00m\n\u001b[32m    252\u001b[39m \u001b[43m        \u001b[49m\u001b[38;5;28;43;01myield\u001b[39;49;00m\u001b[43m \u001b[49m\u001b[43mobj\u001b[49m\n\u001b[32m    253\u001b[39m \u001b[38;5;66;03m# NB: except ... [ as ...] breaks IPython async KeyboardInterrupt\u001b[39;00m\n",
      "\u001b[36mFile \u001b[39m\u001b[32m/venv/main/lib/python3.12/site-packages/tqdm/std.py:1181\u001b[39m, in \u001b[36mtqdm.__iter__\u001b[39m\u001b[34m(self)\u001b[39m\n\u001b[32m   1178\u001b[39m time = \u001b[38;5;28mself\u001b[39m._time\n\u001b[32m   1180\u001b[39m \u001b[38;5;28;01mtry\u001b[39;00m:\n\u001b[32m-> \u001b[39m\u001b[32m1181\u001b[39m \u001b[43m    \u001b[49m\u001b[38;5;28;43;01mfor\u001b[39;49;00m\u001b[43m \u001b[49m\u001b[43mobj\u001b[49m\u001b[43m \u001b[49m\u001b[38;5;129;43;01min\u001b[39;49;00m\u001b[43m \u001b[49m\u001b[43miterable\u001b[49m\u001b[43m:\u001b[49m\n\u001b[32m   1182\u001b[39m \u001b[43m        \u001b[49m\u001b[38;5;28;43;01myield\u001b[39;49;00m\u001b[43m \u001b[49m\u001b[43mobj\u001b[49m\n\u001b[32m   1183\u001b[39m \u001b[43m        \u001b[49m\u001b[38;5;66;43;03m# Update and possibly print the progressbar.\u001b[39;49;00m\n\u001b[32m   1184\u001b[39m \u001b[43m        \u001b[49m\u001b[38;5;66;43;03m# Note: does not call self.update(1) for speed optimisation.\u001b[39;49;00m\n",
      "\u001b[36mFile \u001b[39m\u001b[32m/venv/main/lib/python3.12/site-packages/torch/utils/data/dataloader.py:734\u001b[39m, in \u001b[36m_BaseDataLoaderIter.__next__\u001b[39m\u001b[34m(self)\u001b[39m\n\u001b[32m    731\u001b[39m \u001b[38;5;28;01mif\u001b[39;00m \u001b[38;5;28mself\u001b[39m._sampler_iter \u001b[38;5;129;01mis\u001b[39;00m \u001b[38;5;28;01mNone\u001b[39;00m:\n\u001b[32m    732\u001b[39m     \u001b[38;5;66;03m# TODO(https://github.com/pytorch/pytorch/issues/76750)\u001b[39;00m\n\u001b[32m    733\u001b[39m     \u001b[38;5;28mself\u001b[39m._reset()  \u001b[38;5;66;03m# type: ignore[call-arg]\u001b[39;00m\n\u001b[32m--> \u001b[39m\u001b[32m734\u001b[39m data = \u001b[38;5;28;43mself\u001b[39;49m\u001b[43m.\u001b[49m\u001b[43m_next_data\u001b[49m\u001b[43m(\u001b[49m\u001b[43m)\u001b[49m\n\u001b[32m    735\u001b[39m \u001b[38;5;28mself\u001b[39m._num_yielded += \u001b[32m1\u001b[39m\n\u001b[32m    736\u001b[39m \u001b[38;5;28;01mif\u001b[39;00m (\n\u001b[32m    737\u001b[39m     \u001b[38;5;28mself\u001b[39m._dataset_kind == _DatasetKind.Iterable\n\u001b[32m    738\u001b[39m     \u001b[38;5;129;01mand\u001b[39;00m \u001b[38;5;28mself\u001b[39m._IterableDataset_len_called \u001b[38;5;129;01mis\u001b[39;00m \u001b[38;5;129;01mnot\u001b[39;00m \u001b[38;5;28;01mNone\u001b[39;00m\n\u001b[32m    739\u001b[39m     \u001b[38;5;129;01mand\u001b[39;00m \u001b[38;5;28mself\u001b[39m._num_yielded > \u001b[38;5;28mself\u001b[39m._IterableDataset_len_called\n\u001b[32m    740\u001b[39m ):\n",
      "\u001b[36mFile \u001b[39m\u001b[32m/venv/main/lib/python3.12/site-packages/torch/utils/data/dataloader.py:1492\u001b[39m, in \u001b[36m_MultiProcessingDataLoaderIter._next_data\u001b[39m\u001b[34m(self)\u001b[39m\n\u001b[32m   1489\u001b[39m     \u001b[38;5;28;01mreturn\u001b[39;00m \u001b[38;5;28mself\u001b[39m._process_data(data, worker_id)\n\u001b[32m   1491\u001b[39m \u001b[38;5;28;01massert\u001b[39;00m \u001b[38;5;129;01mnot\u001b[39;00m \u001b[38;5;28mself\u001b[39m._shutdown \u001b[38;5;129;01mand\u001b[39;00m \u001b[38;5;28mself\u001b[39m._tasks_outstanding > \u001b[32m0\u001b[39m\n\u001b[32m-> \u001b[39m\u001b[32m1492\u001b[39m idx, data = \u001b[38;5;28;43mself\u001b[39;49m\u001b[43m.\u001b[49m\u001b[43m_get_data\u001b[49m\u001b[43m(\u001b[49m\u001b[43m)\u001b[49m\n\u001b[32m   1493\u001b[39m \u001b[38;5;28mself\u001b[39m._tasks_outstanding -= \u001b[32m1\u001b[39m\n\u001b[32m   1494\u001b[39m \u001b[38;5;28;01mif\u001b[39;00m \u001b[38;5;28mself\u001b[39m._dataset_kind == _DatasetKind.Iterable:\n\u001b[32m   1495\u001b[39m     \u001b[38;5;66;03m# Check for _IterableDatasetStopIteration\u001b[39;00m\n",
      "\u001b[36mFile \u001b[39m\u001b[32m/venv/main/lib/python3.12/site-packages/torch/utils/data/dataloader.py:1444\u001b[39m, in \u001b[36m_MultiProcessingDataLoaderIter._get_data\u001b[39m\u001b[34m(self)\u001b[39m\n\u001b[32m   1442\u001b[39m \u001b[38;5;28;01melif\u001b[39;00m \u001b[38;5;28mself\u001b[39m._pin_memory:\n\u001b[32m   1443\u001b[39m     \u001b[38;5;28;01mwhile\u001b[39;00m \u001b[38;5;28mself\u001b[39m._pin_memory_thread.is_alive():\n\u001b[32m-> \u001b[39m\u001b[32m1444\u001b[39m         success, data = \u001b[38;5;28;43mself\u001b[39;49m\u001b[43m.\u001b[49m\u001b[43m_try_get_data\u001b[49m\u001b[43m(\u001b[49m\u001b[43m)\u001b[49m\n\u001b[32m   1445\u001b[39m         \u001b[38;5;28;01mif\u001b[39;00m success:\n\u001b[32m   1446\u001b[39m             \u001b[38;5;28;01mreturn\u001b[39;00m data\n",
      "\u001b[36mFile \u001b[39m\u001b[32m/venv/main/lib/python3.12/site-packages/torch/utils/data/dataloader.py:1285\u001b[39m, in \u001b[36m_MultiProcessingDataLoaderIter._try_get_data\u001b[39m\u001b[34m(self, timeout)\u001b[39m\n\u001b[32m   1272\u001b[39m \u001b[38;5;28;01mdef\u001b[39;00m\u001b[38;5;250m \u001b[39m\u001b[34m_try_get_data\u001b[39m(\u001b[38;5;28mself\u001b[39m, timeout=_utils.MP_STATUS_CHECK_INTERVAL):\n\u001b[32m   1273\u001b[39m     \u001b[38;5;66;03m# Tries to fetch data from `self._data_queue` once for a given timeout.\u001b[39;00m\n\u001b[32m   1274\u001b[39m     \u001b[38;5;66;03m# This can also be used as inner loop of fetching without timeout, with\u001b[39;00m\n\u001b[32m   (...)\u001b[39m\u001b[32m   1282\u001b[39m     \u001b[38;5;66;03m# Returns a 2-tuple:\u001b[39;00m\n\u001b[32m   1283\u001b[39m     \u001b[38;5;66;03m#   (bool: whether successfully get data, any: data if successful else None)\u001b[39;00m\n\u001b[32m   1284\u001b[39m     \u001b[38;5;28;01mtry\u001b[39;00m:\n\u001b[32m-> \u001b[39m\u001b[32m1285\u001b[39m         data = \u001b[38;5;28;43mself\u001b[39;49m\u001b[43m.\u001b[49m\u001b[43m_data_queue\u001b[49m\u001b[43m.\u001b[49m\u001b[43mget\u001b[49m\u001b[43m(\u001b[49m\u001b[43mtimeout\u001b[49m\u001b[43m=\u001b[49m\u001b[43mtimeout\u001b[49m\u001b[43m)\u001b[49m\n\u001b[32m   1286\u001b[39m         \u001b[38;5;28;01mreturn\u001b[39;00m (\u001b[38;5;28;01mTrue\u001b[39;00m, data)\n\u001b[32m   1287\u001b[39m     \u001b[38;5;28;01mexcept\u001b[39;00m \u001b[38;5;167;01mException\u001b[39;00m \u001b[38;5;28;01mas\u001b[39;00m e:\n\u001b[32m   1288\u001b[39m         \u001b[38;5;66;03m# At timeout and error, we manually check whether any worker has\u001b[39;00m\n\u001b[32m   1289\u001b[39m         \u001b[38;5;66;03m# failed. Note that this is the only mechanism for Windows to detect\u001b[39;00m\n\u001b[32m   1290\u001b[39m         \u001b[38;5;66;03m# worker failures.\u001b[39;00m\n",
      "\u001b[36mFile \u001b[39m\u001b[32m/venv/main/lib/python3.12/queue.py:180\u001b[39m, in \u001b[36mQueue.get\u001b[39m\u001b[34m(self, block, timeout)\u001b[39m\n\u001b[32m    178\u001b[39m         \u001b[38;5;28;01mif\u001b[39;00m remaining <= \u001b[32m0.0\u001b[39m:\n\u001b[32m    179\u001b[39m             \u001b[38;5;28;01mraise\u001b[39;00m Empty\n\u001b[32m--> \u001b[39m\u001b[32m180\u001b[39m         \u001b[38;5;28;43mself\u001b[39;49m\u001b[43m.\u001b[49m\u001b[43mnot_empty\u001b[49m\u001b[43m.\u001b[49m\u001b[43mwait\u001b[49m\u001b[43m(\u001b[49m\u001b[43mremaining\u001b[49m\u001b[43m)\u001b[49m\n\u001b[32m    181\u001b[39m item = \u001b[38;5;28mself\u001b[39m._get()\n\u001b[32m    182\u001b[39m \u001b[38;5;28mself\u001b[39m.not_full.notify()\n",
      "\u001b[36mFile \u001b[39m\u001b[32m/venv/main/lib/python3.12/threading.py:359\u001b[39m, in \u001b[36mCondition.wait\u001b[39m\u001b[34m(self, timeout)\u001b[39m\n\u001b[32m    357\u001b[39m \u001b[38;5;28;01melse\u001b[39;00m:\n\u001b[32m    358\u001b[39m     \u001b[38;5;28;01mif\u001b[39;00m timeout > \u001b[32m0\u001b[39m:\n\u001b[32m--> \u001b[39m\u001b[32m359\u001b[39m         gotit = \u001b[43mwaiter\u001b[49m\u001b[43m.\u001b[49m\u001b[43macquire\u001b[49m\u001b[43m(\u001b[49m\u001b[38;5;28;43;01mTrue\u001b[39;49;00m\u001b[43m,\u001b[49m\u001b[43m \u001b[49m\u001b[43mtimeout\u001b[49m\u001b[43m)\u001b[49m\n\u001b[32m    360\u001b[39m     \u001b[38;5;28;01melse\u001b[39;00m:\n\u001b[32m    361\u001b[39m         gotit = waiter.acquire(\u001b[38;5;28;01mFalse\u001b[39;00m)\n",
      "\u001b[31mKeyboardInterrupt\u001b[39m: "
     ]
    }
   ],
   "source": [
    "train_model('/tmp/data', 'runs/msk_high', epochs=30)"
   ]
  },
  {
   "cell_type": "code",
   "execution_count": 24,
   "id": "4555997d-f361-4c41-b462-9c8d2fd30a3b",
   "metadata": {},
   "outputs": [],
   "source": [
    "%load_ext tensorboard"
   ]
  },
  {
   "cell_type": "code",
   "execution_count": 27,
   "id": "e31625be-bfdd-4388-8a9a-2fc929429573",
   "metadata": {},
   "outputs": [],
   "source": [
    "from typing import List, Tuple, Dict, Any, Optional\n",
    "\n",
    "def compute_bounds_from_json(json_path: Path, pad: float = 0.01) -> Tuple[float,float,float,float]:\n",
    "    \"\"\"\n",
    "    Прочитать exif_data.json и вернуть (LAT_MIN, LAT_MAX, LON_MIN, LON_MAX) с паддингом.\n",
    "    Поддерживает ключи: gps_latitude/latitude/lat и gps_longitude/longitude/lon.\n",
    "    \"\"\"\n",
    "    with open(json_path, 'r') as f:\n",
    "        data = json.load(f)\n",
    "    lats, lons = [], []\n",
    "    for row in data:\n",
    "        lat = row.get('gps_latitude', row.get('latitude', row.get('lat', None)))\n",
    "        lon = row.get('gps_longitude', row.get('longitude', row.get('lon', None)))\n",
    "        if lat is None or lon is None:\n",
    "            continue\n",
    "        lats.append(float(lat)); lons.append(float(lon))\n",
    "    if not lats:\n",
    "        raise ValueError(f\"No lat/lon found in {json_path}\")\n",
    "    lat_min, lat_max = float(np.min(lats)), float(np.max(lats))\n",
    "    lon_min, lon_max = float(np.min(lons)), float(np.max(lons))\n",
    "    # небольшой паддинг\n",
    "    dlat = (lat_max - lat_min) * pad or 1e-6\n",
    "    dlon = (lon_max - lon_min) * pad or 1e-6\n",
    "    return lat_min - dlat, lat_max + dlat, lon_min - dlon, lon_max + dlon\n",
    "\n",
    "def meters_error(pred_lat, pred_lon, gt_lat, gt_lon):\n",
    "    \"\"\"Приближение в метрах (нормально на малых расстояниях в Москве).\"\"\"\n",
    "    lat_m = (pred_lat - gt_lat) * 111_000.0\n",
    "    lon_m = (pred_lon - gt_lon) * 111_000.0 * np.cos(np.deg2rad(gt_lat))\n",
    "    return np.sqrt(lat_m**2 + lon_m**2)\n",
    "\n",
    "class AdvancedGPSDatasetMSK(Dataset):\n",
    "    \"\"\"\n",
    "    Адаптация датасета из main2_high_improved.py под наш JSON/путь.\n",
    "    - Поддерживает как 'image_path' (абсолютный), так и 'filename' (+ image_dir).\n",
    "    - Нормализация координат в [-1, 1] по bounds, которые считаются по JSON.\n",
    "    - Аугментации как в оригинале (слегка), но без SF-фильтров.\n",
    "    \"\"\"\n",
    "    def __init__(self, image_dir: str, json_path: str, is_training: bool, bounds: Tuple[float,float,float,float]):\n",
    "        super().__init__()\n",
    "        self.image_dir = Path(image_dir)\n",
    "        self.is_training = is_training\n",
    "        self.LAT_MIN, self.LAT_MAX, self.LON_MIN, self.LON_MAX = bounds\n",
    "\n",
    "        with open(json_path, 'r') as f:\n",
    "            data_list = json.load(f)\n",
    "\n",
    "        self.image_paths: List[str] = []\n",
    "        self.norm_coords: List[List[float]] = []\n",
    "        self.raw_coords: List[List[float]] = []\n",
    "\n",
    "        if is_training:\n",
    "            self.transform = transforms.Compose([\n",
    "                transforms.Resize((288, 288)),\n",
    "                transforms.RandomResizedCrop(256, scale=(0.6, 1.0), ratio=(0.9, 1.1)),\n",
    "                transforms.RandomHorizontalFlip(p=0.5),\n",
    "                transforms.ColorJitter(brightness=0.2, contrast=0.25, saturation=0.2, hue=0.05),\n",
    "                transforms.ToTensor(),\n",
    "                transforms.Normalize(mean=[0.485,0.456,0.406], std=[0.229,0.224,0.225]),\n",
    "            ])\n",
    "        else:\n",
    "            self.transform = transforms.Compose([\n",
    "                transforms.Resize((256, 256)),\n",
    "                transforms.ToTensor(),\n",
    "                transforms.Normalize(mean=[0.485,0.456,0.406], std=[0.229,0.224,0.225]),\n",
    "            ])\n",
    "\n",
    "        skipped = 0\n",
    "        for row in data_list:\n",
    "            lat = row.get('gps_latitude', row.get('latitude', row.get('lat', None)))\n",
    "            lon = row.get('gps_longitude', row.get('longitude', row.get('lon', None)))\n",
    "            if lat is None or lon is None:\n",
    "                skipped += 1; continue\n",
    "            lat, lon = float(lat), float(lon)\n",
    "\n",
    "            # путь\n",
    "            p = row.get('image_path', None)\n",
    "            if p is None:\n",
    "                fname = row.get('filename', None)\n",
    "                if fname is None: skipped += 1; continue\n",
    "                p = str(self.image_dir / fname)\n",
    "            if not os.path.isfile(p):\n",
    "                skipped += 1; continue\n",
    "\n",
    "            # нормализация в [-1, 1] по bounds\n",
    "            nlat = 2.0*(lat - self.LAT_MIN)/(self.LAT_MAX - self.LAT_MIN) - 1.0\n",
    "            nlon = 2.0*(lon - self.LON_MIN)/(self.LON_MAX - self.LON_MIN) - 1.0\n",
    "\n",
    "            self.image_paths.append(p)\n",
    "            self.raw_coords.append([lat, lon])\n",
    "            self.norm_coords.append([nlat, nlon])\n",
    "\n",
    "        if skipped:\n",
    "            print(f\"[dataset] skipped {skipped} entries (missing path/coords)\")\n",
    "        print(f\"[dataset] loaded {len(self.image_paths)} images\")\n",
    "        print(f\"[dataset] LAT: [{self.LAT_MIN:.6f}, {self.LAT_MAX:.6f}]  LON: [{self.LON_MIN:.6f}, {self.LON_MAX:.6f}]\")\n",
    "\n",
    "    def __len__(self): return len(self.image_paths)\n",
    "\n",
    "    def __getitem__(self, i: int):\n",
    "        img = Image.open(self.image_paths[i]).convert('RGB')\n",
    "        x = self.transform(img)\n",
    "        nlat, nlon = self.norm_coords[i]\n",
    "        alat, alon = self.raw_coords[i]\n",
    "        return x, torch.tensor([nlat, nlon], dtype=torch.float32), torch.tensor([alat, alon], dtype=torch.float32), self.image_paths[i]"
   ]
  },
  {
   "cell_type": "code",
   "execution_count": 28,
   "id": "48c52988-ba0b-4b39-8f29-f428dc0c0cdf",
   "metadata": {},
   "outputs": [],
   "source": [
    "from torchvision.models import ResNet50_Weights, EfficientNet_B0_Weights\n",
    "\n",
    "class ProperTerrainClassifier(nn.Module):\n",
    "    def __init__(self):\n",
    "        super().__init__()\n",
    "        # Загрузка весов с fallback, если нет интернета\n",
    "        try:\n",
    "            backbone = models.resnet50(weights=ResNet50_Weights.IMAGENET1K_V2)\n",
    "        except Exception as e:\n",
    "            print(\"[warn] resnet50 weights download failed, using random init:\", e)\n",
    "            backbone = models.resnet50(weights=None)\n",
    "        self.backbone = backbone\n",
    "        nf = self.backbone.fc.in_features\n",
    "        self.backbone.fc = nn.Identity()\n",
    "        self.terrain_head = nn.Sequential(\n",
    "            nn.Dropout(0.3),\n",
    "            nn.Linear(nf, 512), nn.ReLU(inplace=True),\n",
    "            nn.Dropout(0.2),\n",
    "            nn.Linear(512, 256), nn.ReLU(inplace=True),\n",
    "            nn.Dropout(0.1),\n",
    "            nn.Linear(256, 6),  # urban, water, forest, grassland, mountain, beach\n",
    "        )\n",
    "        self.classes = ['urban','water','forest','grassland','mountain','beach']\n",
    "\n",
    "    def analyze_color_features(self, x: torch.Tensor) -> torch.Tensor:\n",
    "        # как в исходнике: слабая эвристика по цветам\n",
    "        b, c, h, w = x.shape\n",
    "        scores = torch.zeros((b, 6), device=x.device, dtype=x.dtype)\n",
    "        x_np = x.detach().cpu().permute(0,2,3,1).numpy()\n",
    "        for i in range(b):\n",
    "            mean_rgb = np.mean(x_np[i], axis=(0,1))\n",
    "            # water\n",
    "            if mean_rgb[2] > mean_rgb[1] and mean_rgb[2] > mean_rgb[0]:\n",
    "                scores[i,1] += 0.3\n",
    "            # forest\n",
    "            if mean_rgb[1] > mean_rgb[0] and mean_rgb[1] > mean_rgb[2]:\n",
    "                scores[i,2] += 0.3\n",
    "            # urban (низкая вариативность)\n",
    "            if np.var(mean_rgb) < 0.05:\n",
    "                scores[i,0] += 0.2\n",
    "            # grassland\n",
    "            if 0.3 < mean_rgb[1] < 0.7 and mean_rgb[1] > mean_rgb[2]:\n",
    "                scores[i,3] += 0.2\n",
    "            # mountain (серо-коричневые)\n",
    "            if np.all(mean_rgb > 0.3) and np.all(mean_rgb < 0.7):\n",
    "                scores[i,4] += 0.2\n",
    "            # beach (светлые)\n",
    "            if np.mean(mean_rgb) > 0.6:\n",
    "                scores[i,5] += 0.2\n",
    "        return torch.tensor(scores, device=x.device, dtype=torch.float32)\n",
    "\n",
    "    def forward(self, x):\n",
    "        f = self.backbone(x)\n",
    "        logits = self.terrain_head(f)\n",
    "        probs_nn = torch.softmax(logits, dim=1)\n",
    "        color_scores = self.analyze_color_features(x).to(probs_nn.dtype)\n",
    "        probs = torch.softmax(0.8*probs_nn + 0.2*color_scores, dim=1)\n",
    "        return probs\n",
    "\n",
    "# === GPS net + geo reasoner (как в исходнике) ===\n",
    "class ImprovedHighEndGPSNet(nn.Module):\n",
    "    def __init__(self):\n",
    "        super().__init__()\n",
    "        try:\n",
    "            gps_backbone = models.efficientnet_b0(weights=EfficientNet_B0_Weights.IMAGENET1K_V1)\n",
    "        except Exception as e:\n",
    "            print(\"[warn] efficientnet_b0 weights download failed, using random init:\", e)\n",
    "            gps_backbone = models.efficientnet_b0(weights=None)\n",
    "        self.gps_backbone = gps_backbone\n",
    "        # features dim\n",
    "        gps_features = 1280\n",
    "        self.gps_backbone.classifier = nn.Identity()\n",
    "\n",
    "        self.terrain_classifier = ProperTerrainClassifier()\n",
    "        self.geo_reasoner = nn.Sequential(\n",
    "            nn.Linear(gps_features + 6, 512), nn.ReLU(inplace=True), nn.Dropout(0.3),\n",
    "            nn.Linear(512, 256), nn.ReLU(inplace=True), nn.Dropout(0.2),\n",
    "            nn.Linear(256, 128), nn.ReLU(inplace=True),\n",
    "        )\n",
    "        self.lat_head = nn.Sequential(nn.Linear(128,64), nn.ReLU(inplace=True), nn.Linear(64,1), nn.Tanh())\n",
    "        self.lon_head = nn.Sequential(nn.Linear(128,64), nn.ReLU(inplace=True), nn.Linear(64,1), nn.Tanh())\n",
    "        self.confidence_head = nn.Sequential(nn.Linear(128,32), nn.ReLU(inplace=True), nn.Linear(32,2), nn.Sigmoid())\n",
    "\n",
    "    def forward(self, x):\n",
    "        gps_f = self.gps_backbone(x)\n",
    "        terr = self.terrain_classifier(x)\n",
    "        g = self.geo_reasoner(torch.cat([gps_f, terr], dim=1))\n",
    "        lat = self.lat_head(g); lon = self.lon_head(g)\n",
    "        coords = torch.cat([lat, lon], dim=1)\n",
    "        conf = self.confidence_head(g)\n",
    "        return coords, terr, conf\n",
    "\n",
    "# === Нейтральный \"валидатор\" (без SF карт); можно включить мягкий штраф только за выход за bounds) ===\n",
    "class NeutralGeoValidator:\n",
    "    def __init__(self, bounds: Tuple[float,float,float,float]):\n",
    "        self.LAT_MIN, self.LAT_MAX, self.LON_MIN, self.LON_MAX = bounds\n",
    "\n",
    "    def validate(self, predicted_terrain: str, lat: float, lon: float) -> str:\n",
    "        # Без гео-полигонов: только проверка выхода за bounds -> 'incompatible', иначе 'ok'\n",
    "        if lat < self.LAT_MIN or lat > self.LAT_MAX or lon < self.LON_MIN or lon > self.LON_MAX:\n",
    "            return 'incompatible'\n",
    "        return 'ok'"
   ]
  },
  {
   "cell_type": "code",
   "execution_count": 29,
   "id": "714e3fac-1713-4e2b-961d-6b6af2840161",
   "metadata": {},
   "outputs": [],
   "source": [
    "class ImprovedAdvancedGeoLossMSK(nn.Module):\n",
    "    \"\"\"\n",
    "    Метрики как в оригинале: ошибка в метрах + калибровка confidence + слабая диверсификация.\n",
    "    Гео-штраф: только за выход за bounds (иначе не штрафуем, т.к. у нас нет SF-карт).\n",
    "    \"\"\"\n",
    "    def __init__(self, bounds: Tuple[float,float,float,float]):\n",
    "        super().__init__()\n",
    "        self.bounds = bounds\n",
    "        self.validator = NeutralGeoValidator(bounds)\n",
    "        self.pred_history: List[Tuple[float,float]] = []\n",
    "        self.coord_w = 1.0\n",
    "        self.conf_w  = 0.3\n",
    "        self.geo_w   = 2.0\n",
    "        self.div_w   = 1.0\n",
    "\n",
    "        # фиксируем косинус по центральной широте (точнее — можно по batch)\n",
    "        lat0 = 0.5*(bounds[0]+bounds[1])\n",
    "        self.cos_lat0 = math.cos(math.radians(lat0))\n",
    "\n",
    "    def denorm(self, norm_lat: torch.Tensor, norm_lon: torch.Tensor) -> Tuple[torch.Tensor, torch.Tensor]:\n",
    "        LAT_MIN, LAT_MAX, LON_MIN, LON_MAX = self.bounds\n",
    "        lat = (norm_lat + 1.0)/2.0 * (LAT_MAX - LAT_MIN) + LAT_MIN\n",
    "        lon = (norm_lon + 1.0)/2.0 * (LON_MAX - LON_MIN) + LON_MIN\n",
    "        return lat, lon\n",
    "\n",
    "    def forward(self, pred_coords, pred_terr, pred_conf, target_coords, actual_coords):\n",
    "        device = pred_coords.device\n",
    "        # денорм\n",
    "        p_lat, p_lon = self.denorm(pred_coords[:,0], pred_coords[:,1])\n",
    "        t_lat, t_lon = self.denorm(target_coords[:,0], target_coords[:,1])\n",
    "\n",
    "        # ошибка в метрах\n",
    "        lat_m = torch.abs(p_lat - t_lat) * 111_000.0\n",
    "        lon_m = torch.abs(p_lon - t_lon) * 111_000.0 * self.cos_lat0\n",
    "        dist  = torch.sqrt(lat_m**2 + lon_m**2)  # [B]\n",
    "\n",
    "        # калибровка confidence (высокая уверенность при большой ошибке -> штраф)\n",
    "        conf_lat, conf_lon = pred_conf[:,0], pred_conf[:,1]\n",
    "        conf_loss = torch.mean(conf_lat*lat_m + conf_lon*lon_m)\n",
    "\n",
    "        # лёгкая «антикластеризация», если предсказания залипают в одну точку\n",
    "        with torch.no_grad():\n",
    "            self.pred_history.append((float(p_lat.mean().item()), float(p_lon.mean().item())))\n",
    "            if len(self.pred_history) > 25:\n",
    "                self.pred_history = self.pred_history[-25:]\n",
    "        div_pen = torch.tensor(0.0, device=device)\n",
    "        if len(self.pred_history) >= 10:\n",
    "            lat_std = torch.tensor([p[0] for p in self.pred_history], device=device).std()\n",
    "            lon_std = torch.tensor([p[1] for p in self.pred_history], device=device).std()\n",
    "            if lat_std < 0.001 and lon_std < 0.001:\n",
    "                div_pen = self.div_w * 1000.0  # 1 км штраф\n",
    "\n",
    "        # гео-штраф: выход за bounds\n",
    "        geo_pen = torch.zeros_like(dist)\n",
    "        with torch.no_grad():\n",
    "            for i in range(dist.shape[0]):\n",
    "                tag = self.validator.validate('na', float(p_lat[i].item()), float(p_lon[i].item()))\n",
    "                if tag == 'incompatible':\n",
    "                    geo_pen[i] = 3000.0  # 3 км\n",
    "\n",
    "        total = self.coord_w*dist + self.conf_w*conf_loss + self.geo_w*geo_pen + div_pen\n",
    "        return torch.mean(total)"
   ]
  },
  {
   "cell_type": "code",
   "execution_count": 30,
   "id": "4b1b7098-79b7-4574-ab99-bbfff9bf1aa2",
   "metadata": {},
   "outputs": [],
   "source": [
    "def auto_num_workers():\n",
    "    try:\n",
    "        import psutil\n",
    "        return max(2, min(8, psutil.cpu_count(logical=True)))\n",
    "    except:\n",
    "        return 4\n",
    "\n",
    "def save_ckpt(state: dict, path: Path):\n",
    "    path.parent.mkdir(parents=True, exist_ok=True)\n",
    "    tmp = str(path)+\".tmp\"\n",
    "    torch.save(state, tmp)\n",
    "    Path(tmp).replace(path)\n",
    "    print(f\"[ckpt] saved -> {path}\")\n",
    "\n",
    "def load_ckpt(path: Path, device):\n",
    "    ckpt = torch.load(str(path), map_location=device)\n",
    "    print(f\"[ckpt] loaded {path} (epoch={ckpt.get('epoch')}, best={ckpt.get('best_val')})\")\n",
    "    return ckpt\n",
    "\n",
    "def train_improved(\n",
    "    image_dir: str, json_path: str, out_dir: str,\n",
    "    epochs: int = 50, bs: int = 32, img_size: int = 256,\n",
    "    val_split: float = 0.15, lr_backbone: float = 1e-5, lr_terrain: float = 2e-4, lr_heads: float = 1e-3,\n",
    "    resume_from: Optional[str] = None, save_every: int = 5, patience: int = 8, disable_early_stop: bool = False\n",
    "):\n",
    "    device = torch.device('cuda' if torch.cuda.is_available() else 'cpu')\n",
    "    out_dir = Path(out_dir); out_dir.mkdir(parents=True, exist_ok=True)\n",
    "\n",
    "    bounds = compute_bounds_from_json(Path(json_path), pad=0.01)\n",
    "    ds_full = AdvancedGPSDatasetMSK(image_dir, json_path, is_training=True, bounds=bounds)\n",
    "    if len(ds_full) < 10:\n",
    "        raise RuntimeError(\"Too few images. Check dataset paths/json.\")\n",
    "\n",
    "    n = len(ds_full); n_val = max(1, int(n*val_split)); n_tr = n - n_val\n",
    "    tr_ds, va_ds = random_split(ds_full, [n_tr, n_val])\n",
    "    # режим инференса на вал\n",
    "    va_ds.dataset.is_training = False  # type: ignore\n",
    "\n",
    "    num_workers = auto_num_workers()\n",
    "    tr_dl = DataLoader(tr_ds, batch_size=bs, shuffle=True, num_workers=num_workers, pin_memory=True,\n",
    "                       persistent_workers=True, prefetch_factor=4)\n",
    "    va_dl = DataLoader(va_ds, batch_size=bs, shuffle=False, num_workers=max(2, num_workers//2),\n",
    "                       pin_memory=True, persistent_workers=True, prefetch_factor=4)\n",
    "\n",
    "    model = ImprovedHighEndGPSNet().to(device)\n",
    "    # групповые LR как в исходнике\n",
    "    gps_params, terr_params, other_params = [], [], []\n",
    "    for n_, p in model.named_parameters():\n",
    "        if not p.requires_grad: continue\n",
    "        if n_.startswith('gps_backbone'):\n",
    "            gps_params.append(p)\n",
    "        elif n_.startswith('terrain_classifier'):\n",
    "            terr_params.append(p)\n",
    "        else:\n",
    "            other_params.append(p)\n",
    "    opt = torch.optim.AdamW([\n",
    "        {'params': gps_params,  'lr': lr_backbone},\n",
    "        {'params': terr_params, 'lr': lr_terrain},\n",
    "        {'params': other_params,'lr': lr_heads},\n",
    "    ], weight_decay=1e-4)\n",
    "\n",
    "    # OneCycle по размеру train_loader\n",
    "    scheduler = torch.optim.lr_scheduler.OneCycleLR(\n",
    "        opt, max_lr=[lr_backbone*3, lr_terrain*2.5, lr_heads*3],\n",
    "        epochs=epochs, steps_per_epoch=len(tr_dl), pct_start=0.1, anneal_strategy='cos'\n",
    "    )\n",
    "\n",
    "    loss_fn = ImprovedAdvancedGeoLossMSK(bounds)\n",
    "    scaler = GradScaler(enabled=torch.cuda.is_available())\n",
    "    writer = SummaryWriter(log_dir=str(out_dir/'tb'))\n",
    "\n",
    "    best_val = float('inf'); bad = 0; start_epoch = 0\n",
    "    last_path = out_dir/'last.pth'; best_path = out_dir/'best.pth'\n",
    "\n",
    "    # === resume ===\n",
    "    if resume_from and Path(resume_from).exists():\n",
    "        ckpt = load_ckpt(Path(resume_from), device)\n",
    "        model.load_state_dict(ckpt['model_state_dict'])\n",
    "        if 'optimizer_state_dict' in ckpt:\n",
    "            try:\n",
    "                opt.load_state_dict(ckpt['optimizer_state_dict'])\n",
    "                print(\"[ckpt] optimizer restored\")\n",
    "            except Exception as e:\n",
    "                print(\"[ckpt] cannot load optimizer:\", e)\n",
    "        start_epoch = ckpt.get('epoch', -1)+1\n",
    "        best_val = ckpt.get('val_loss', best_val)\n",
    "        print(f\"[resume] start from epoch {start_epoch}, best {best_val:.2f} m\")\n",
    "\n",
    "    print(f\"[train] {len(tr_ds)} train / {len(va_ds)} val | bs={bs} | device={device} | bounds={bounds}\")\n",
    "\n",
    "    for epoch in range(start_epoch, epochs):\n",
    "        # ---- train ----\n",
    "        model.train()\n",
    "        tot_tr, n_tr = 0.0, 0\n",
    "        pbar = tqdm(tr_dl, desc=f\"Train {epoch:03d}/{epochs-1}\")\n",
    "        for xb, y_norm, y_raw, _paths in pbar:\n",
    "            xb = xb.to(device, non_blocking=True)\n",
    "            y_norm = y_norm.to(device, non_blocking=True)\n",
    "            y_raw = y_raw.to(device, non_blocking=True)\n",
    "\n",
    "            opt.zero_grad(set_to_none=True)\n",
    "            with autocast(enabled=torch.cuda.is_available()):\n",
    "                pred_coords, pred_terr, pred_conf = model(xb)\n",
    "                loss = loss_fn(pred_coords, pred_terr, pred_conf, y_norm, y_raw)\n",
    "\n",
    "            scaler.scale(loss).backward()\n",
    "            torch.nn.utils.clip_grad_norm_(model.parameters(), max_norm=1.0)\n",
    "            scaler.step(opt); scaler.update()\n",
    "            scheduler.step()\n",
    "\n",
    "            bsz = xb.size(0)\n",
    "            tot_tr += float(loss.item())*bsz; n_tr += bsz\n",
    "            pbar.set_postfix(tr_m=f\"{(tot_tr/max(1,n_tr)):.1f}\")\n",
    "\n",
    "        tr_m = tot_tr/max(1,n_tr)\n",
    "\n",
    "        # ---- val ----\n",
    "        model.eval()\n",
    "        tot_va, n_va = 0.0, 0\n",
    "        with torch.no_grad():\n",
    "            for xb, y_norm, y_raw, _ in va_dl:\n",
    "                xb = xb.to(device, non_blocking=True)\n",
    "                y_norm = y_norm.to(device, non_blocking=True)\n",
    "                y_raw = y_raw.to(device, non_blocking=True)\n",
    "                pred_coords, pred_terr, pred_conf = model(xb)\n",
    "                v = float(loss_fn(pred_coords, pred_terr, pred_conf, y_norm, y_raw).item())\n",
    "                bsz = xb.size(0)\n",
    "                tot_va += v*bsz; n_va += bsz\n",
    "        va_m = tot_va/max(1,n_va)\n",
    "\n",
    "        writer.add_scalars(\"loss_meters\", {\"train\": tr_m, \"val\": va_m}, epoch)\n",
    "        print(f\"[epoch {epoch:03d}] train {tr_m:.1f} m | val {va_m:.1f} m\")\n",
    "\n",
    "        # --- save last ---\n",
    "        save_ckpt({\n",
    "            'epoch': epoch,\n",
    "            'model_state_dict': model.state_dict(),\n",
    "            'optimizer_state_dict': opt.state_dict(),\n",
    "            'val_loss': va_m,\n",
    "            'coordinate_bounds': {'lat_min': bounds[0], 'lat_max': bounds[1], 'lon_min': bounds[2], 'lon_max': bounds[3]},\n",
    "        }, last_path)\n",
    "\n",
    "        # --- periodic ---\n",
    "        if (epoch+1) % max(1, save_every) == 0:\n",
    "            save_ckpt({\n",
    "                'epoch': epoch,\n",
    "                'model_state_dict': model.state_dict(),\n",
    "                'optimizer_state_dict': opt.state_dict(),\n",
    "                'val_loss': va_m,\n",
    "                'coordinate_bounds': {'lat_min': bounds[0], 'lat_max': bounds[1], 'lon_min': bounds[2], 'lon_max': bounds[3]},\n",
    "            }, out_dir/f\"ckpt_epoch_{epoch+1}.pth\")\n",
    "\n",
    "        # --- best ---\n",
    "        if va_m < best_val:\n",
    "            best_val = va_m; bad = 0\n",
    "            shutil.copy2(last_path, best_path)\n",
    "            print(f\"[best] {best_val:.1f} m -> {best_path.name}\")\n",
    "        else:\n",
    "            bad += 1\n",
    "            print(f\"[es] no improve ({bad}/{patience})\")\n",
    "            if not disable_early_stop and bad >= patience:\n",
    "                print(\"[es] early stop\"); break\n",
    "\n",
    "    writer.close()\n",
    "    print(f\"[done] best val {best_val:.1f} m | out_dir={out_dir}\")\n",
    "    return str(best_path), bounds"
   ]
  },
  {
   "cell_type": "code",
   "execution_count": 31,
   "id": "19fe159e-10d2-4ba6-9429-368782fca29b",
   "metadata": {},
   "outputs": [],
   "source": [
    "def denorm_batch(norm_xy: torch.Tensor, bounds: Tuple[float,float,float,float]):\n",
    "    LAT_MIN, LAT_MAX, LON_MIN, LON_MAX = bounds\n",
    "    lat = (norm_xy[:,0] + 1.0)/2.0 * (LAT_MAX - LAT_MIN) + LAT_MIN\n",
    "    lon = (norm_xy[:,1] + 1.0)/2.0 * (LON_MAX - LON_MIN) + LON_MIN\n",
    "    return lat, lon\n",
    "\n",
    "@torch.no_grad()\n",
    "def predict_image(model_ckpt: str, img_path: str, bounds: Optional[Tuple[float,float,float,float]] = None):\n",
    "    device = torch.device('cuda' if torch.cuda.is_available() else 'cpu')\n",
    "    ckpt = torch.load(model_ckpt, map_location=device)\n",
    "    model = ImprovedHighEndGPSNet().to(device).eval()\n",
    "    model.load_state_dict(ckpt['model_state_dict'])\n",
    "    if bounds is None and 'coordinate_bounds' in ckpt:\n",
    "        cb = ckpt['coordinate_bounds']; bounds = (cb['lat_min'], cb['lat_max'], cb['lon_min'], cb['lon_max'])\n",
    "    assert bounds is not None, \"bounds required\"\n",
    "\n",
    "    tfm = transforms.Compose([\n",
    "        transforms.Resize((256,256)),\n",
    "        transforms.ToTensor(),\n",
    "        transforms.Normalize(mean=[0.485,0.456,0.406], std=[0.229,0.224,0.225]),\n",
    "    ])\n",
    "    x = tfm(Image.open(img_path).convert('RGB')).unsqueeze(0).to(device)\n",
    "    pred_coords, terr, conf = model(x)\n",
    "    lat, lon = denorm_batch(pred_coords.detach().cpu(), bounds)\n",
    "    terr_idx = torch.argmax(terr, dim=1).item()\n",
    "    classes = ['urban','water','forest','grassland','mountain','beach']\n",
    "    return float(lat[0]), float(lon[0]), classes[terr_idx], tuple(conf[0].detach().cpu().tolist())\n",
    "\n",
    "# ---- Пример: быстрый sanity-check на твоём образце ----\n",
    "sample_img = \"/mnt/data/download.jpeg\"  # ты прикрепил файл под таким именем\n",
    "gt_lat, gt_lon = 55.74976, 37.82994\n",
    "\n",
    "# Предполагаем, что тренировался в out_dir=\"/root/exp_msk\"\n",
    "best_ckpt = \"/root/exp_msk/best.pth\"  # подставь реальный путь\n",
    "\n",
    "# lat_pred, lon_pred, terr, conf = predict_image(best_ckpt, sample_img)  # вызвать после обучения\n",
    "# print(lat_pred, lon_pred, terr, conf)\n",
    "# print(\"err_m:\", meters_error(lat_pred, lon_pred, gt_lat, gt_lon))\n"
   ]
  },
  {
   "cell_type": "code",
   "execution_count": 42,
   "id": "69c5cbc6-4d88-4fa8-b7e0-43f11c13e0eb",
   "metadata": {},
   "outputs": [
    {
     "name": "stdout",
     "output_type": "stream",
     "text": [
      "[dataset] loaded 48812 images\n",
      "[dataset] LAT: [55.202967, 56.335422]  LON: [36.714044, 38.700616]\n"
     ]
    },
    {
     "name": "stderr",
     "output_type": "stream",
     "text": [
      "/tmp/ipykernel_4481/118200782.py:69: FutureWarning: `torch.cuda.amp.GradScaler(args...)` is deprecated. Please use `torch.amp.GradScaler('cuda', args...)` instead.\n",
      "  scaler = GradScaler(enabled=torch.cuda.is_available())\n"
     ]
    },
    {
     "name": "stdout",
     "output_type": "stream",
     "text": [
      "[ckpt] loaded /root/exp_msk_advanced/last.pth (epoch=39, best=None)\n",
      "[ckpt] optimizer restored\n",
      "[resume] start from epoch 40, best 8230.92 m\n",
      "[train] 41491 train / 7321 val | bs=64 | device=cuda | bounds=(55.2029675, 56.3354225, 36.7140438, 38.7006162)\n"
     ]
    },
    {
     "data": {
      "application/vnd.jupyter.widget-view+json": {
       "model_id": "a64af2fff4a34d9ea5c723e2f9aeb885",
       "version_major": 2,
       "version_minor": 0
      },
      "text/plain": [
       "Train 040/109:   0%|          | 0/649 [00:00<?, ?it/s]"
      ]
     },
     "metadata": {},
     "output_type": "display_data"
    },
    {
     "name": "stderr",
     "output_type": "stream",
     "text": [
      "/tmp/ipykernel_4481/118200782.py:102: FutureWarning: `torch.cuda.amp.autocast(args...)` is deprecated. Please use `torch.amp.autocast('cuda', args...)` instead.\n",
      "  with autocast(enabled=torch.cuda.is_available()):\n",
      "/tmp/ipykernel_4481/1554420103.py:50: UserWarning: To copy construct from a tensor, it is recommended to use sourceTensor.detach().clone() or sourceTensor.detach().clone().requires_grad_(True), rather than torch.tensor(sourceTensor).\n",
      "  return torch.tensor(scores, device=x.device, dtype=torch.float32)\n"
     ]
    },
    {
     "name": "stdout",
     "output_type": "stream",
     "text": [
      "[epoch 040] train 7779.4 m | val 6665.9 m\n",
      "[ckpt] saved -> /root/exp_msk_advanced/last.pth\n",
      "[best] 6665.9 m -> best.pth\n"
     ]
    },
    {
     "data": {
      "application/vnd.jupyter.widget-view+json": {
       "model_id": "b4af54918fc34158878fd5c70554b587",
       "version_major": 2,
       "version_minor": 0
      },
      "text/plain": [
       "Train 041/109:   0%|          | 0/649 [00:00<?, ?it/s]"
      ]
     },
     "metadata": {},
     "output_type": "display_data"
    },
    {
     "name": "stdout",
     "output_type": "stream",
     "text": [
      "[epoch 041] train 7632.7 m | val 6594.2 m\n",
      "[ckpt] saved -> /root/exp_msk_advanced/last.pth\n",
      "[ckpt] saved -> /root/exp_msk_advanced/ckpt_epoch_42.pth\n",
      "[best] 6594.2 m -> best.pth\n"
     ]
    },
    {
     "data": {
      "application/vnd.jupyter.widget-view+json": {
       "model_id": "72cd27eb9a664d63992ff4ccec67b2df",
       "version_major": 2,
       "version_minor": 0
      },
      "text/plain": [
       "Train 042/109:   0%|          | 0/649 [00:00<?, ?it/s]"
      ]
     },
     "metadata": {},
     "output_type": "display_data"
    },
    {
     "name": "stdout",
     "output_type": "stream",
     "text": [
      "[epoch 042] train 7550.0 m | val 6574.7 m\n",
      "[ckpt] saved -> /root/exp_msk_advanced/last.pth\n",
      "[best] 6574.7 m -> best.pth\n"
     ]
    },
    {
     "data": {
      "application/vnd.jupyter.widget-view+json": {
       "model_id": "99b7f8df2536408097eb9305ce689ba4",
       "version_major": 2,
       "version_minor": 0
      },
      "text/plain": [
       "Train 043/109:   0%|          | 0/649 [00:00<?, ?it/s]"
      ]
     },
     "metadata": {},
     "output_type": "display_data"
    },
    {
     "name": "stdout",
     "output_type": "stream",
     "text": [
      "[epoch 043] train 7492.7 m | val 6466.0 m\n",
      "[ckpt] saved -> /root/exp_msk_advanced/last.pth\n",
      "[best] 6466.0 m -> best.pth\n"
     ]
    },
    {
     "data": {
      "application/vnd.jupyter.widget-view+json": {
       "model_id": "b7a7c75fd2c84bb0bb5eb620815acc56",
       "version_major": 2,
       "version_minor": 0
      },
      "text/plain": [
       "Train 044/109:   0%|          | 0/649 [00:00<?, ?it/s]"
      ]
     },
     "metadata": {},
     "output_type": "display_data"
    },
    {
     "name": "stdout",
     "output_type": "stream",
     "text": [
      "[epoch 044] train 7404.7 m | val 6598.4 m\n",
      "[ckpt] saved -> /root/exp_msk_advanced/last.pth\n",
      "[ckpt] saved -> /root/exp_msk_advanced/ckpt_epoch_45.pth\n",
      "[es] no improve (1/10)\n"
     ]
    },
    {
     "data": {
      "application/vnd.jupyter.widget-view+json": {
       "model_id": "d7d1ca81f7004e03a98954016111b4d7",
       "version_major": 2,
       "version_minor": 0
      },
      "text/plain": [
       "Train 045/109:   0%|          | 0/649 [00:00<?, ?it/s]"
      ]
     },
     "metadata": {},
     "output_type": "display_data"
    },
    {
     "name": "stdout",
     "output_type": "stream",
     "text": [
      "[epoch 045] train 7352.8 m | val 6573.5 m\n",
      "[ckpt] saved -> /root/exp_msk_advanced/last.pth\n",
      "[es] no improve (2/10)\n"
     ]
    },
    {
     "data": {
      "application/vnd.jupyter.widget-view+json": {
       "model_id": "3dabfe1d3b1144b5978a2bf8c89341b8",
       "version_major": 2,
       "version_minor": 0
      },
      "text/plain": [
       "Train 046/109:   0%|          | 0/649 [00:00<?, ?it/s]"
      ]
     },
     "metadata": {},
     "output_type": "display_data"
    },
    {
     "name": "stdout",
     "output_type": "stream",
     "text": [
      "[epoch 046] train 7376.7 m | val 6548.3 m\n",
      "[ckpt] saved -> /root/exp_msk_advanced/last.pth\n",
      "[es] no improve (3/10)\n"
     ]
    },
    {
     "data": {
      "application/vnd.jupyter.widget-view+json": {
       "model_id": "8ed797a29a6e4afc9df03a02680c9b28",
       "version_major": 2,
       "version_minor": 0
      },
      "text/plain": [
       "Train 047/109:   0%|          | 0/649 [00:00<?, ?it/s]"
      ]
     },
     "metadata": {},
     "output_type": "display_data"
    },
    {
     "name": "stdout",
     "output_type": "stream",
     "text": [
      "[epoch 047] train 7357.5 m | val 6773.0 m\n",
      "[ckpt] saved -> /root/exp_msk_advanced/last.pth\n",
      "[ckpt] saved -> /root/exp_msk_advanced/ckpt_epoch_48.pth\n",
      "[es] no improve (4/10)\n"
     ]
    },
    {
     "data": {
      "application/vnd.jupyter.widget-view+json": {
       "model_id": "b8b0304e629040a69d44713dd7e311c2",
       "version_major": 2,
       "version_minor": 0
      },
      "text/plain": [
       "Train 048/109:   0%|          | 0/649 [00:00<?, ?it/s]"
      ]
     },
     "metadata": {},
     "output_type": "display_data"
    },
    {
     "name": "stdout",
     "output_type": "stream",
     "text": [
      "[epoch 048] train 7391.9 m | val 6880.0 m\n",
      "[ckpt] saved -> /root/exp_msk_advanced/last.pth\n",
      "[es] no improve (5/10)\n"
     ]
    },
    {
     "data": {
      "application/vnd.jupyter.widget-view+json": {
       "model_id": "7a46df40c3704a80ad21ba8b9bf45fd1",
       "version_major": 2,
       "version_minor": 0
      },
      "text/plain": [
       "Train 049/109:   0%|          | 0/649 [00:00<?, ?it/s]"
      ]
     },
     "metadata": {},
     "output_type": "display_data"
    },
    {
     "name": "stdout",
     "output_type": "stream",
     "text": [
      "[epoch 049] train 7419.6 m | val 7398.4 m\n",
      "[ckpt] saved -> /root/exp_msk_advanced/last.pth\n",
      "[es] no improve (6/10)\n"
     ]
    },
    {
     "data": {
      "application/vnd.jupyter.widget-view+json": {
       "model_id": "6a2c042118bc4c6c86041e518c730b12",
       "version_major": 2,
       "version_minor": 0
      },
      "text/plain": [
       "Train 050/109:   0%|          | 0/649 [00:00<?, ?it/s]"
      ]
     },
     "metadata": {},
     "output_type": "display_data"
    },
    {
     "name": "stdout",
     "output_type": "stream",
     "text": [
      "[epoch 050] train 7576.8 m | val 7317.1 m\n",
      "[ckpt] saved -> /root/exp_msk_advanced/last.pth\n",
      "[ckpt] saved -> /root/exp_msk_advanced/ckpt_epoch_51.pth\n",
      "[es] no improve (7/10)\n"
     ]
    },
    {
     "data": {
      "application/vnd.jupyter.widget-view+json": {
       "model_id": "bf2c177f81aa43bc8cd9c30766847843",
       "version_major": 2,
       "version_minor": 0
      },
      "text/plain": [
       "Train 051/109:   0%|          | 0/649 [00:00<?, ?it/s]"
      ]
     },
     "metadata": {},
     "output_type": "display_data"
    },
    {
     "name": "stdout",
     "output_type": "stream",
     "text": [
      "[epoch 051] train 7420.8 m | val 7276.1 m\n",
      "[ckpt] saved -> /root/exp_msk_advanced/last.pth\n",
      "[es] no improve (8/10)\n"
     ]
    },
    {
     "data": {
      "application/vnd.jupyter.widget-view+json": {
       "model_id": "6ea5c960d90d4ec5a89d5ebaea79b14f",
       "version_major": 2,
       "version_minor": 0
      },
      "text/plain": [
       "Train 052/109:   0%|          | 0/649 [00:00<?, ?it/s]"
      ]
     },
     "metadata": {},
     "output_type": "display_data"
    },
    {
     "name": "stdout",
     "output_type": "stream",
     "text": [
      "[epoch 052] train 7319.6 m | val 7214.7 m\n",
      "[ckpt] saved -> /root/exp_msk_advanced/last.pth\n",
      "[es] no improve (9/10)\n"
     ]
    },
    {
     "data": {
      "application/vnd.jupyter.widget-view+json": {
       "model_id": "16eb999adbb9429194bca6abc68eb7be",
       "version_major": 2,
       "version_minor": 0
      },
      "text/plain": [
       "Train 053/109:   0%|          | 0/649 [00:00<?, ?it/s]"
      ]
     },
     "metadata": {},
     "output_type": "display_data"
    },
    {
     "name": "stdout",
     "output_type": "stream",
     "text": [
      "[epoch 053] train 7228.3 m | val 7247.0 m\n",
      "[ckpt] saved -> /root/exp_msk_advanced/last.pth\n",
      "[ckpt] saved -> /root/exp_msk_advanced/ckpt_epoch_54.pth\n",
      "[es] no improve (10/10)\n",
      "[es] early stop\n",
      "[done] best val 6466.0 m | out_dir=/root/exp_msk_advanced\n",
      "BEST: /root/exp_msk_advanced/best.pth BOUNDS: (55.2029675, 56.3354225, 36.7140438, 38.7006162)\n"
     ]
    }
   ],
   "source": [
    "IMAGE_DIR = \"/tmp/data/images\"          # или /root/data/images — папка с картинками\n",
    "JSON_PATH = \"/tmp/data/exif_data.json\"  # итоговый JSON с полями filename/image_path и gps_latitude/gps_longitude\n",
    "OUT_DIR   = \"/root/exp_msk_advanced\"                 # куда писать чекпойнты и TB\n",
    "\n",
    "# Старт\n",
    "best_path, bounds = train_improved(\n",
    "    image_dir=IMAGE_DIR, json_path=JSON_PATH, out_dir=OUT_DIR,\n",
    "    epochs=110, bs=64, img_size=256,\n",
    "    lr_backbone=1e-5, lr_terrain=2e-4, lr_heads=1e-3,\n",
    "    resume_from=\"/root/exp_msk_advanced/last.pth\", save_every=3, patience=10, disable_early_stop=False\n",
    ")\n",
    "print(\"BEST:\", best_path, \"BOUNDS:\", bounds)"
   ]
  },
  {
   "cell_type": "code",
   "execution_count": null,
   "id": "12235610-1f7a-4a89-b4bc-ea3a253caaa9",
   "metadata": {},
   "outputs": [],
   "source": [
    "ls"
   ]
  },
  {
   "cell_type": "code",
   "execution_count": null,
   "id": "3b7c7891-206d-4814-81c2-945dfb7f2b9c",
   "metadata": {},
   "outputs": [],
   "source": []
  },
  {
   "cell_type": "code",
   "execution_count": null,
   "id": "d2b560d4-a0a4-41ce-8c2a-ad1a69662d70",
   "metadata": {},
   "outputs": [],
   "source": []
  },
  {
   "cell_type": "code",
   "execution_count": null,
   "id": "a88a2163-3b7b-4358-bcfe-ef397b9c37f6",
   "metadata": {},
   "outputs": [],
   "source": []
  }
 ],
 "metadata": {
  "kernelspec": {
   "display_name": "Python3 (main venv)",
   "language": "python",
   "name": "main"
  },
  "language_info": {
   "codemirror_mode": {
    "name": "ipython",
    "version": 3
   },
   "file_extension": ".py",
   "mimetype": "text/x-python",
   "name": "python",
   "nbconvert_exporter": "python",
   "pygments_lexer": "ipython3",
   "version": "3.12.11"
  }
 },
 "nbformat": 4,
 "nbformat_minor": 5
}
